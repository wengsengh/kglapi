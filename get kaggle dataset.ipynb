{
  "nbformat": 4,
  "nbformat_minor": 0,
  "metadata": {
    "colab": {
      "name": "cars classifier.ipynb",
      "provenance": [],
      "collapsed_sections": []
    },
    "kernelspec": {
      "name": "python3",
      "display_name": "Python 3"
    }
  },
  "cells": [
    {
      "cell_type": "code",
      "metadata": {
        "id": "zjqzMlayaxbS",
        "colab_type": "code",
        "outputId": "64978c38-b3af-42cf-a77d-a99905f290f6",
        "colab": {
          "base_uri": "https://localhost:8080/",
          "height": 204
        }
      },
      "source": [
        "\n",
        "#install depenencies\n",
        "!pip install kaggle"
      ],
      "execution_count": 0,
      "outputs": [
        {
          "output_type": "stream",
          "text": [
            "Requirement already satisfied: kaggle in /usr/local/lib/python3.6/dist-packages (1.5.4)\n",
            "Requirement already satisfied: python-dateutil in /usr/local/lib/python3.6/dist-packages (from kaggle) (2.5.3)\n",
            "Requirement already satisfied: six>=1.10 in /usr/local/lib/python3.6/dist-packages (from kaggle) (1.12.0)\n",
            "Requirement already satisfied: certifi in /usr/local/lib/python3.6/dist-packages (from kaggle) (2019.6.16)\n",
            "Requirement already satisfied: urllib3<1.25,>=1.21.1 in /usr/local/lib/python3.6/dist-packages (from kaggle) (1.24.3)\n",
            "Requirement already satisfied: tqdm in /usr/local/lib/python3.6/dist-packages (from kaggle) (4.28.1)\n",
            "Requirement already satisfied: python-slugify in /usr/local/lib/python3.6/dist-packages (from kaggle) (3.0.2)\n",
            "Requirement already satisfied: requests in /usr/local/lib/python3.6/dist-packages (from kaggle) (2.21.0)\n",
            "Requirement already satisfied: text-unidecode==1.2 in /usr/local/lib/python3.6/dist-packages (from python-slugify->kaggle) (1.2)\n",
            "Requirement already satisfied: idna<2.9,>=2.5 in /usr/local/lib/python3.6/dist-packages (from requests->kaggle) (2.8)\n",
            "Requirement already satisfied: chardet<3.1.0,>=3.0.2 in /usr/local/lib/python3.6/dist-packages (from requests->kaggle) (3.0.4)\n"
          ],
          "name": "stdout"
        }
      ]
    },
    {
      "cell_type": "code",
      "metadata": {
        "id": "uMouzIvPbKmp",
        "colab_type": "code",
        "outputId": "f77f299f-c6de-4332-ab19-ad474433689a",
        "colab": {
          "resources": {
            "http://localhost:8080/nbextensions/google.colab/files.js": {
              "data": "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",
              "ok": true,
              "headers": [
                [
                  "content-type",
                  "application/javascript"
                ]
              ],
              "status": 200,
              "status_text": ""
            }
          },
          "base_uri": "https://localhost:8080/",
          "height": 91
        }
      },
      "source": [
        "from google.colab import files\n",
        "files.upload()"
      ],
      "execution_count": 0,
      "outputs": [
        {
          "output_type": "display_data",
          "data": {
            "text/html": [
              "\n",
              "     <input type=\"file\" id=\"files-f79259ef-3f18-44a1-8da6-e3f0313acb2a\" name=\"files[]\" multiple disabled />\n",
              "     <output id=\"result-f79259ef-3f18-44a1-8da6-e3f0313acb2a\">\n",
              "      Upload widget is only available when the cell has been executed in the\n",
              "      current browser session. Please rerun this cell to enable.\n",
              "      </output>\n",
              "      <script src=\"/nbextensions/google.colab/files.js\"></script> "
            ],
            "text/plain": [
              "<IPython.core.display.HTML object>"
            ]
          },
          "metadata": {
            "tags": []
          }
        },
        {
          "output_type": "stream",
          "text": [
            "Saving kaggle.json to kaggle.json\n"
          ],
          "name": "stdout"
        },
        {
          "output_type": "execute_result",
          "data": {
            "text/plain": [
              "{'kaggle.json': b'{\"username\":\"yongseng\",\"key\":\"0722b0b843bb14d835dd60069ee10f5e\"}'}"
            ]
          },
          "metadata": {
            "tags": []
          },
          "execution_count": 3
        }
      ]
    },
    {
      "cell_type": "code",
      "metadata": {
        "id": "KZdWzWZgb_Mu",
        "colab_type": "code",
        "colab": {}
      },
      "source": [
        "#before importing the dataset we want to use this code\n",
        "\\# The Kaggle API client expects this file to be in ~/.kaggle,\n",
        "!mkdir -p ~/.kaggle\n",
        "!cp kaggle.json ~/.kaggle/\n",
        "\n",
        "# This permissions change avoids a warning on Kaggle tool startup.\n",
        "!chmod 600 ~/.kaggle/kaggle.json"
      ],
      "execution_count": 0,
      "outputs": []
    },
    {
      "cell_type": "code",
      "metadata": {
        "id": "EdaeNcUIjZmA",
        "colab_type": "code",
        "outputId": "671ed5c3-f7c9-477a-cbda-e21ee7226c62",
        "colab": {
          "base_uri": "https://localhost:8080/",
          "height": 34
        }
      },
      "source": [
        "from google.colab import drive\n",
        "drive.mount('/content/drive')"
      ],
      "execution_count": 0,
      "outputs": [
        {
          "output_type": "stream",
          "text": [
            "Drive already mounted at /content/drive; to attempt to forcibly remount, call drive.mount(\"/content/drive\", force_remount=True).\n"
          ],
          "name": "stdout"
        }
      ]
    },
    {
      "cell_type": "code",
      "metadata": {
        "id": "lemGDy60mLgQ",
        "colab_type": "code",
        "colab": {}
      },
      "source": [
        "import os\n",
        "os.chdir('/content/drive/My Drive/Colab Notebooks/carsdata')#change dir"
      ],
      "execution_count": 0,
      "outputs": []
    },
    {
      "cell_type": "code",
      "metadata": {
        "id": "RJclE4kbmfLP",
        "colab_type": "code",
        "outputId": "402a7af7-04e4-465f-ab2e-9be21a9a91fb",
        "colab": {
          "base_uri": "https://localhost:8080/",
          "height": 34
        }
      },
      "source": [
        "#Check the directory\n",
        "!pwd"
      ],
      "execution_count": 0,
      "outputs": [
        {
          "output_type": "stream",
          "text": [
            "/content/drive/My Drive/Colab Notebooks/carsdata\n"
          ],
          "name": "stdout"
        }
      ]
    },
    {
      "cell_type": "code",
      "metadata": {
        "id": "-82121DlcA52",
        "colab_type": "code",
        "outputId": "1b5babff-a0fd-4833-9b95-2981416fd886",
        "colab": {
          "base_uri": "https://localhost:8080/",
          "height": 68
        }
      },
      "source": [
        "!kaggle datasets download -d jutrera/stanford-car-dataset-by-classes-folder"
      ],
      "execution_count": 0,
      "outputs": [
        {
          "output_type": "stream",
          "text": [
            "Downloading stanford-car-dataset-by-classes-folder.zip to /content/drive/My Drive/Colab Notebooks/carsdata\n",
            "100% 1.82G/1.82G [00:24<00:00, 83.8MB/s]\n",
            "100% 1.82G/1.82G [00:24<00:00, 78.6MB/s]\n"
          ],
          "name": "stdout"
        }
      ]
    },
    {
      "cell_type": "code",
      "metadata": {
        "id": "OvelmjqZeP8C",
        "colab_type": "code",
        "outputId": "ea603f6e-ade1-45ee-8325-0c4b179aa4ff",
        "colab": {
          "base_uri": "https://localhost:8080/",
          "height": 102
        }
      },
      "source": [
        "!unzip stanford-car-dataset-by-classes-folder.zip"
      ],
      "execution_count": 0,
      "outputs": [
        {
          "output_type": "stream",
          "text": [
            "Archive:  stanford-car-dataset-by-classes-folder.zip\n",
            "  inflating: car_data.zip            \n",
            "  inflating: anno_train.csv          \n",
            "  inflating: names.csv               \n",
            "  inflating: anno_test.csv           \n"
          ],
          "name": "stdout"
        }
      ]
    },
    {
      "cell_type": "code",
      "metadata": {
        "id": "__m_UAnwekYr",
        "colab_type": "code",
        "colab": {}
      },
      "source": [
        "!unzip car_data.zip"
      ],
      "execution_count": 0,
      "outputs": []
    },
    {
      "cell_type": "code",
      "metadata": {
        "id": "GRkelUXffCKV",
        "colab_type": "code",
        "colab": {}
      },
      "source": [
        "import split_folders\n",
        "\n",
        "# Split with a ratio.\n",
        "# To only split into training and validation set, set a tuple to `ratio`, i.e, `(.8, .2)`.\n",
        "split_folders.ratio('/content/drive/My Drive/Colab Notebooks/carsdata/car_data/train', output='/content/drive/My Drive/Colab Notebooks/carsdata/car_data/output', seed=1337, ratio=(.8, .2)) # default values\n",
        "\n",
        "# Split val/test with a fixed number of items e.g. 100 for each set.\n",
        "# To only split into training and validation set, use a single number to `fixed`, i.e., `10`.\n",
        "#split_folders.fixed('input_folder', output=\"output\", seed=1337, fixed=(100, 100), oversample=False) # default values"
      ],
      "execution_count": 0,
      "outputs": []
    },
    {
      "cell_type": "code",
      "metadata": {
        "id": "IJYAnrH3N2Rf",
        "colab_type": "code",
        "colab": {
          "base_uri": "https://localhost:8080/",
          "height": 867
        },
        "outputId": "98750b7a-21fc-4745-8c84-f96acdb6730d"
      },
      "source": [
        "import requests\n",
        "\n",
        "headers = {\n",
        "    'User-Agent': 'Mozilla/5',\n",
        "    'Referer': 'https://shopee.com.my/search?keyword=mouse'\n",
        "}\n",
        "\n",
        "url = 'https://shopee.com.my/api/v2/search_items/?by=relevancy&keyword=mouse&limit=50&newest=50&order=desc&page_type=search&version=2'  \n",
        "r = requests.get(url, headers = headers).json()\n",
        "\n",
        "for item in r['items']:\n",
        "    print(item['name'], ' ', item['price'])"
      ],
      "execution_count": 9,
      "outputs": [
        {
          "output_type": "stream",
          "text": [
            "Ready Stock Logitech M100r Wired Mouse M100r M-100r M 100r   5500000\n",
            "CLiPtec 1200dpi 2.4GHz Wireless Optical Mouse M853   1390000\n",
            "Ready Stock!!!UltraThin Wireless  Mouse 2.4G Optoelectronic Mouse Office Game Mouse   610000\n",
            "2.4G Mini Wireless Keyboard Touchpad For Android TV BOX PC   1890000\n",
            "Wireless Mouse 2.4Ghz Receiver Optical Adjustable Wireless Mice Rechargeable Mouse for PC Laptop   1411000\n",
            "FANTECH Rhasta G10 2400DPI LED Optical 6D USB Pro Gaming Wired Mouse Free MP25   1490000\n",
            "Logitech G103 Gaming Mouse. M100 M331 M330 M187 M185 B100 GAMING GAMER OPTICAL MOUSE   5888000\n",
            "[*Ready Stock] Cute Cartoon Round Mouse Pad for Study and Working | Hot-selling & Various Style Available   330000\n",
            "Ultra Thin USB Optical Wireless Mouse 2.4G Receiver Mouse Computer PC Laptop   553000\n",
            "DELL MS111 USB2.0 Optical Wired Mouse For Computer Laptop - Black OEM   720000\n",
            "KPOP BTS BT21 Wireless Silent Mouse TATA COOKY Cute Cartoon Laptop Office Mouse   1590000\n",
            "(1 Year Warranty) Wired USB Mouse competitive game notebook light USB Mice   999000\n",
            "Logitech M185/M186/M280 Wireless Mouse Laptop   1800000\n",
            "Logitech M330 Wireless Mouse Receiver Support With USB For Laptops   1458000\n",
            "Fantech Mouse Gaming X5s ZEUS Running RGB Macro FREE MOUSEPAD   3500000\n",
            "PROLiNK Wireless Optical Mouse with On/Off Switch Sirim & MCMC Approval (FREE AA Battery) PMW6001   2300000\n",
            "HP Wireless Mouse Computer Bluetooth Mouse Mute Mouse 1600DPI USB Receiver Mice   2790000\n",
            "ALX Rechargeable Wireless Mute Gaming Mouse 6 Button LED MZ-16   2421000\n",
            "Ultra Thin USB 2.4Ghz Wireless Mouse Optical Gaming Slim Receiver for PC Laptop   675000\n",
            "Delux M618X Adjustable Angle Wireless Wired Vertical Mouse Bluetooth Ergonomic Rechargeable Mice For Computer Laptop PC   13000000\n",
            "3200DPI LED Optical 6D USB Wired Gaming Mouse For PC   1130000\n",
            "FANTECH X9 WIRED MACRO RGB 4800DPI 7 BUTTONS GAMING MOUSE   3290000\n",
            "【 Cheap Shipping 】3200DPI 3 Buttons USB Wired Luminous Gamer Computer Gaming Mouse   680000\n",
            "Ergonomic Mouse High Precision Optical Vertical Mouse Adjustable DPI 800/1200/2000/3600 Wired Computer Mouse   2700000\n",
            "[ProfessionalGaming Mouse]Rechargeable Wireless Silent LED Backlit USB Optical Ergonomic   2099000\n",
            "Official Salpido M800 Usb Corded 3D Wired Optical Mouse Led Red   480000\n",
            "Logitech M331 Silent Plus Wireless Mouse   5800000\n",
            "Logitech M185 Wireless Mouse 1000DPI Office Computer USB Nano Receiver For Laptop Desktop PC Home&office Gaming Mice   1910000\n",
            "2.4GHz USB 2.0 Wireless Tablet Laptop Computer Gaming Mouse Optical Scroll Mice   701000\n",
            "PROLiNK Wireless Optical Mouse with On/Off Switch Sirim & MCMC Approval (FREE AA Battery) PMW6001   2300000\n",
            "2.4Ghz Mini Portable Wireless Optical Gaming Mouse   1450000\n",
            "HP M100 ENTRY LEVEL USB WIRED OPTICAL SENSOR GAMING MOUSE 4 BUTTONS & ADJUSTABLE 1000 - 1600DPI. CABLE : 1.5M & BLACK   1990000\n",
            "Apedra A7 USB Wired Gaming Mouse Professional 7 Button Macro Definition Optical Computer Mouse Cable Mice For Laptop PC   2700000\n",
            "Logitech B100 Optical USB Mouse   1497000\n",
            "Ultra-thin USB Optical Wireless Mouse FashionZone1.my   644000\n",
            "Redragon M710 Optical USB Wired Gaming Mouse Laser Programmable Mice Backlight Ergonomic For Laptop PC Computer Notebook   7900000\n",
            "Original Bluetooth Mouse Logitech Mouse Logitech M330 Silent Plus Wireless Mouse Gaming Mouse Mice Logitech   1399000\n",
            "HP X3000 WIRELESS MOUSE (100% ORIGINAL HP MALAYSIA) - M170 M171 M185 M187 M235 M238 M100 M100R B175   3999000\n",
            "Cliptec INNOVIF 1600dpi 2.4GHz RZS857 Wireless Mouse   1333000\n",
            "【Ready Stock】ASUS WIRELESS MOUSE 2.4 G   899000\n",
            "Alcatroz X-Craft Classic Gaming Mouse (2400 CPI) 4 Button Free Charging Cable   1590000\n",
            "SENSONIC MX350 Cordless Optical Wireless Mouse (m170, m331, m221, m330, m185 )   1139000\n",
            "Logitech M331 Silent Plus Wireless Mouse - Black 910-004914   6840000\n",
            "2.4Ghz Mini Portable Wireless Mouse USB Optical Game Gaming Mouse Mice For PC   1000000\n",
            "8.5 Inch Portable Digital LCD Writing Tablet Electronic Drawing Notepad   1279000\n",
            "XIAOMI Mi Portable Mouse Bluetooth 4.0 + 2.4GHz, Mi Wireless Mouse RF   3800000\n",
            "Wechip W1 2.4G Air Mouse Wireless Keyboard Remote Control   4180000\n",
            "DELL 2.4G WIRELESS OPTICAL MOUSE WIRELESS MOUSE OEM   1399000\n",
            "HP X500 Optical Wired USB Mouse Black 3 Buttons USB Mice   1400000\n",
            "Original Logitech M331 | M330 Silent Plus Wireless Mouse | M170 Wireless Mouse | B100   980000\n"
          ],
          "name": "stdout"
        }
      ]
    },
    {
      "cell_type": "code",
      "metadata": {
        "id": "SsO9CyNtN2X3",
        "colab_type": "code",
        "colab": {
          "base_uri": "https://localhost:8080/",
          "height": 527
        },
        "outputId": "38b05143-4cec-4642-e472-8394ca868b6e"
      },
      "source": [
        "import requests\n",
        "\n",
        "headers = {\n",
        "    'User-Agent': 'Mozilla/5',\n",
        "    'Referer': 'https://shopee.com.my/applewish.my'\n",
        "}\n",
        "\n",
        "url = 'https://shopee.com.my/api/v2/search_items/?by=pop&limit=30&match_id=62701278&newest=0&order=desc&page_type=shop&version=2'  \n",
        "r = requests.get(url, headers = headers).json()\n",
        "\n",
        "for item in r['items']:\n",
        "    print(item['name'], ' ', item['price'])"
      ],
      "execution_count": 10,
      "outputs": [
        {
          "output_type": "stream",
          "text": [
            "Rechargeable X7 Wireless Silent LED Backlit USB Optical Ergonomic Gaming Mouse   2100000\n",
            "Rechargeable X9 Wireless Silent LED Backlit USB Optical Ergonomic Gaming Mouse   2124000\n",
            "High Speed Micro USB 3.0 to USB 3.0 Cable External Hard Drive Disk HDD   456000\n",
            "2018 Fashion Portable MP3 MP4 Player LCD Screen FM Radio Video Games Movie   2505000\n",
            "Frame Case Cover Shell Screen Protector for Samsung Galaxy Watch Active 40mm   280000\n",
            "Universal Folio Leather Stand Cover Case For 10 10.1 Inch Android Tablet PC   1125000\n",
            "Fashion Sports Silicone Band Strap Bracelet + Tool For Garmin Vivosmart HR   675000\n",
            "Clothes Lint Fuzz Shaver Pill Fluff Remover Fabrics Sweaters Electric   1305000\n",
            "Crystal Transparent Case For Fuji Fujifilm Instax Mini 25 Polaroid Camera   702000\n",
            "USB3.0 1TB External Hard Drives Portable Desktop Mobile Hard Disk Case   2025000\n",
            "USB 3.0 To SATA 22 Pin 2.5 Inch Hard Disk Drive SSD Adapter Connector Cable Lead   1216000\n",
            "Magnetic USB Charger Recharger for Huawei Honor A2 Smart Watch Band Bracelet   750000\n",
            "Universal Folio Leather Stand Case For 10 10.1 Inch Android Tablet PC   1298000\n",
            "2.4G Wireless Vertical USB 6 Keys Mouse Ergonomic Design Optical 2400DPI Mice   1984000\n",
            "DIY 4*18650 Battery Power Bank Charger Box For iPhone Smartphone   497000\n",
            "Rechargeable X8 Wireless Silent LED Backlit Optical Ergonomic Gaming Mouse   2278000\n",
            "TYPE C Rechargeable Wireless LED Optical Ergonomic 2.4G USB Gaming Mouse Mice   3726000\n",
            "Smart Watch Leather +Silicone Wrist Band Strap For Huawei Watch GT / Active 46mm   2048000\n",
            "Universal Folio Leather Stand Cover Case For 10 10.1 Inch Android Tablet PC   1125000\n",
            "6FT 1.8 M Displayport DP Male To DVI-D Male Cable Adapter Core Cable Newest   1043000\n",
            "Universal Silicone Cover Case For 10 10.1 Inch Android Tablet PC   966000\n",
            "USB IDE Laptop Notebook CD DVD RW Burner ROM Drive External Case Enclosure   1463000\n",
            "4800mAh Battery Pack + USB Charger Black Cable For Xbox 360 Wireless Controller   810000\n",
            "DC102 LCD Display Thermometer Humidity Temperature Hygrometer Meter Clock   1392000\n",
            "Silicone Replacement Watch Band Wrist Strap For Huawei Honor 4 Running   686000\n",
            "Professional Colorful Backlight 4000DPI Optical Wired Gaming Mouse Mice   1033000\n",
            "Luxury PU+Leather Case Kickstand Cover Skin For Microsoft Surface Go 10in 2018   2302000\n",
            "Home Button Sticker Button Fingerprint Indentification Touch ID for iPhone   232000\n",
            "Silicone Replacement Watch Band Wrist Strap For Samsung Galaxy Watch Active R500   972000\n",
            "For Amazon Kindle Fire HD 8 2018 8th Gen Kids Safe EVA Rubber Handle Stand Case   2484000\n"
          ],
          "name": "stdout"
        }
      ]
    },
    {
      "cell_type": "code",
      "metadata": {
        "id": "9II6vLZbeqgr",
        "colab_type": "code",
        "colab": {
          "base_uri": "https://localhost:8080/",
          "height": 34
        },
        "outputId": "ee5f2988-1bee-4c0f-a44e-91ce1453c431"
      },
      "source": [
        "len(item['name'])"
      ],
      "execution_count": 14,
      "outputs": [
        {
          "output_type": "execute_result",
          "data": {
            "text/plain": [
              "79"
            ]
          },
          "metadata": {
            "tags": []
          },
          "execution_count": 14
        }
      ]
    },
    {
      "cell_type": "code",
      "metadata": {
        "id": "Gpu0kO4lev7j",
        "colab_type": "code",
        "colab": {
          "base_uri": "https://localhost:8080/",
          "height": 527
        },
        "outputId": "48671657-dffa-481b-c384-043dac55fb5b"
      },
      "source": [
        "import requests\n",
        "\n",
        "headers = {\n",
        "    'User-Agent': 'Mozilla/5',\n",
        "    'Referer': 'https://shopee.com.my/applewish.my'\n",
        "}\n",
        "\n",
        "url = 'https://shopee.com.my/api/v2/search_items/?by=pop&limit=30&match_id=62701278&newest=30&order=desc&page_type=shop&version=2'  \n",
        "r = requests.get(url, headers = headers).json()\n",
        "\n",
        "for item in r['items']:\n",
        "    print(item['name'], ' ', item['price'])"
      ],
      "execution_count": 15,
      "outputs": [
        {
          "output_type": "stream",
          "text": [
            "Protective Shell Skin Silicone Case Cover For Amazon Kindle Fire HD 8 2016/2017   1267000\n",
            "Cordless Wireless 2.4GHz Optical Mouse Mice for Laptop PC Computer +USB Receiver   850000\n",
            "4 Pin Molex to 6 Pin PCI-Express PCIE Video Card Power Converter Adapter Cable   100000\n",
            "Memory Foam Armrest Cushion Pads Elbow Arm Rest Cover Chair Armrest Pads   1309000\n",
            "9H 2.5D Clear Screen Protector Covers for Microsoft Surface Go 10 inch   1475000\n",
            "Foldable Cat Ear LED Music Lights Headphone Earphone headset for Laptop MP3   3160000\n",
            "Ultra Clear Screen Protector Cover Film For MacBook Air Retina 13 inch   355000\n",
            "10 Pairs Medium Size Clear Silicone Replacement Ear Buds Tips For Sony Phillips   98000\n",
            "Wireless Bluetooth Charger FM Transmitter Modulator Car Kit MP3 Music Player G7   1817000\n",
            "Universal Folio Leather Stand Cover Case For 10/10.1 Inch Android Tablet PC   1263000\n",
            "2.5 SATA TO USB3.1 Type C HDD Hard Disk Drive External HDD Enclosure Case Tool 6   2240000\n",
            "Universal 2.5D 9H Tempered Glass Film Screen Protector For 10 10.1Inch Tablet PC   1539000\n",
            "20 PC Cable Winder Earphone Cable Organizer Wire Storage Silicon Charger CL   550000\n",
            "Sports Silicone Strap Band + 5 PCS Watch Film For Huawei Honor 4 Smart Watch   2343000\n",
            "Milanese Magnetic Loop Wrist Strap Metal Wristband For Xiaomi Mi Band 4 Watch   2240000\n",
            "ZELOTES T-60 7200DPI Professional USB Wired Optical 7 Buttons Gaming Mouse   1975000\n",
            "Mini Zipper Earphone Headphone SD Card Storage Bag Box Carrying Pouch   340000\n",
            "TPU Frame Cover Case Shell Screen Protector for Samsung Galaxy Watch Active 40mm   567000\n",
            "Replacement Fast Charging Power Source Charger Dock For Garmin forerunner 945   833000\n",
            "Bluetooth FM Transmitter FM MP3 Players Modulator Handsfree Dual USB Charger A27   1239000\n",
            "Wireless Fast Charging Power Source Charger For Samsung Galaxy Watch Active   2211000\n",
            "1M  2.4A 3in1 USB-C Type C/iOS/ Micro USB Android Round Magnetic Charger   1536000\n",
            "USB Charging Data Cradle Dock Cable Portable Charger For Fossil 4 Smart Watch   3105000\n",
            "Sports Soft Silicone Replacement Watch Band Strap for Fitbit Inspire/Inspire HR   480000\n",
            "5PCS Explosion-proof Clear Pet Screen Protection Film For Samsung Galaxy Fit-e   735000\n",
            "Type-C USB-C OTG Cable USB3.1 Male To USB2.0 Type-A Female Adapter Connector   354000\n",
            "For iPad 6th Generation 2018 9.7 Slim Magnetic Leather Cover For Apple   1944000\n",
            "Sports Soft Silicone Point Wristband Wrist Strap For XIAOMI AMAZFIT cor 2 Watch   1298000\n",
            "Socket Adapter Splitter 3 USB Port Charger DC 12V 24V Car Cigarette Lighter   918000\n",
            "4 Way USB Car Cigarette Lighter Socket Splitter 12V/24V Charger Adapter   1106000\n"
          ],
          "name": "stdout"
        }
      ]
    },
    {
      "cell_type": "code",
      "metadata": {
        "id": "9ZIEPU1ufuUt",
        "colab_type": "code",
        "colab": {}
      },
      "source": [
        ""
      ],
      "execution_count": 0,
      "outputs": []
    },
    {
      "cell_type": "markdown",
      "metadata": {
        "id": "iUv3akkrf8SY",
        "colab_type": "text"
      },
      "source": [
        "Picture code + cf.shopee.com.my\n",
        "8ab40b4bad1f7af306a25dbac7395d40 <p>\n",
        "https://cf.shopee.com.my/file/8ab40b4bad1f7af306a25dbac7395d40\n",
        "\n",
        "example shopee seller id page 1 and page 2 different at newest=0/30 <p>\n",
        "https://shopee.com.my/api/v2/search_items/?by=pop&limit=30&match_id=62701278&newest=0&order=desc&page_type=shop&version=2 <p>\n",
        "https://shopee.com.my/api/v2/search_items/?by=pop&limit=30&match_id=62701278&newest=30&order=desc&page_type=shop&version=2 <p>\n",
        "https://shopee.com.my/Rechargeable-X7-Wireless-Silent-LED-Backlit-USB-Optical-Ergonomic-Gaming-Mouse-i.62701278.1044444330 <p>\n",
        "name + shop id + item id <p>\n",
        "wan auto <p>\n",
        "https://shopee.com.my/api/v2/search_items/?by=pop&limit=30&match_id=11737756&newest=0&order=desc&page_type=shop&version=2 <p>\n",
        "https://shopee.com.my/api/v2/search_items/?by=pop&limit=30&match_id=11737756&newest=2880&order=desc&page_type=shop&version=2"
      ]
    },
    {
      "cell_type": "code",
      "metadata": {
        "id": "rGri3ZQSgMI4",
        "colab_type": "code",
        "colab": {
          "base_uri": "https://localhost:8080/",
          "height": 527
        },
        "outputId": "b48bfc88-3e38-499e-f23d-21c37210e0bc"
      },
      "source": [
        "import requests\n",
        "\n",
        "headers = {\n",
        "    'User-Agent': 'Mozilla/5',\n",
        "    'Referer': 'https://shopee.com.my/oneauto2017'\n",
        "}\n",
        "\n",
        "url = 'https://shopee.com.my/api/v2/search_items/?by=pop&limit=30&match_id=11737756&newest=0&order=desc&page_type=shop&version=2'  \n",
        "r = requests.get(url, headers = headers).json()\n",
        "\n",
        "for item in r['items']:\n",
        "    print(item['name'], ' ', item['price'])"
      ],
      "execution_count": 2,
      "outputs": [
        {
          "output_type": "stream",
          "text": [
            "NEW PETRONAS SYNTIUM 800 10W-40 GENUINE SEMI SYNTHETIC ENGINE OIL WITH FREE GIFT   8600000\n",
            "(ORIGINAL PERODUA PARTS) KANCIL DOOR RUBBER (1 PIECE) GETAH PINTU   3000000\n",
            "BOSCH SUPER SPORT PLUG CABLE ISWARA WIRA SATRIA 4G13/4G15 MMC 12V   5500000\n",
            "ORIGINAL PROTON PARTS ABSORBER MOUNTING DUST COVER (2pcs) PROTON WAJA WIRA GEN2   1200000\n",
            "[ORIGINAL PERODUA PARTS] PERODUA VIVA WINDOW OUTER RUBBER MOULDING (1 PCS)   3500000\n",
            "BOSCH H11 BULB  MYVI LAGI BEST, SAGA FL,FLX,WISH/ MOST CAR FOGLIGHT   1800000\n",
            "ORIGINAL PERODUA BRAKE PAD FOR PERODUA MYVI LAGI BEST / AXIA 1.0 / BEZZA (FRONT)   3400000\n",
            "ORIGINAL PERODUA MYVI/MYVI LAGI BEST STABILIZER BAR BUSH (1 PAIR)   1500000\n",
            "(ORIGINAL PERODUA PARTS) MYVI 1.0 1.3 (2005-2010) WINDOW OUTER RUBBER MOULDING   3000000\n",
            "(ORIGINAL PERODUA PARTS) REAR COIL SPRING RUBBER GETAH SPRING BELAKANG MYVI 1.0 1.3 1.5 LAGI BEST VIVA   1800000\n",
            "[ORIGINAL PERODUA PART] KELISA DOOR RUBBER WEATHERSTRIP 1 PC (GETAH PINTU)   3800000\n",
            "(ORIGINAL PERODUA PARTS) KENARI DOOR RUBBER 1 PC GETAH PINTU   3400000\n",
            "(ORIGINAL PERODUA PARTS) KELISA KENARI COMPLETE WATER HOSE SET 7pcs   4800000\n",
            "[ORIGINAL PROTON PART] PROTON IRIZ 1.3 / 1.6 ROOF MOULDING (1 PCS) GETAH BUMBUNG   7000000\n",
            "(ORIGINAL PERODUA PARTS) VIVA 660 850 1.0  DOOR RUBBER   3800000\n",
            "ORIGINAL PERODUA SHOCK ABSORBER for PERODUA MYVI 1.0, 1.3 [2005-2010] (1 SET)   12800000\n",
            "[ORIGINAL PERODUA PART] INNER WINDOW RUBBER MOULDING DALAM - PERODUA MYVI 1.0 / 1.3 (2005-2010) 1 PIECE   3400000\n",
            "BOSCH OIL FILTER FOR PROTON 1.3 campro 1.6/1.8/2.0/ CFE small type BLM FLX   1000000\n",
            "(ORIGINAL PROTON PARTS) SUNVISOR PROTON ISWARA SAGA 1.3 1.5 MEGAVALVE LMST LMSS 1987-2007 1pcs   3500000\n",
            "BOSCH H8 BULB 1 PAIR (MADE IN KOREA) MYVI 1ST MODEL SE FOGLAMP BULB JAZZ GK5   3500000\n",
            "(ORIGINAL PROTON PARTS) SAGA BLM FL FLX PERSONA EXORA REAR TRUNK EMBLEM   3000000\n",
            "[READY STOCK!!] FRAGILE STICKER 100 / 104 PCS POSLAJU STICKER COURIER STICKER   340000\n",
            "TRW BRAKE DISC ROTOR for PROTON SAGA BLM FL FLX, SAVVY (1 PAIR, FRONT)   12000000\n",
            "ORIGINAL PROTON PARTS REAR COIL SPRING RUBBER PROTON SAGA BLM FL FLX SAVVY 1.2   2000000\n",
            "ORIGINAL PERODUA PART MYVI 1.3 AUTO (2005-2010) ENGINE MOUNTING KIT (3pcs)   35000000\n",
            "(PROMO!!) GENUINE BARDAHL ENGINE OIL 5W-30 FULLY SYNTHETIC 4L 5W30   8000000\n",
            "ORIGINAL TAN CHONG NISSAN GRAND LIVINA, LATIO FRONT ABSORBER MOUNTING (1 PAIR)   14000000\n",
            "ORIGINAL TOYOTA VIOS NCP42 NCP93 REAR ABSORBER BUSHING/ MOUNTING-1 PAIR L+R   5400000\n",
            "[ORIGINAL PERODUA PART] KELISA REAR BOOT TRUNK LID RUBBER GETAH BONNET BELAKANG   4800000\n",
            "HOT PROMO! BOSCH IRIDIUM FUSION SPARK PLUG (3pcs) Kelisa, Kenari, Viva   7000000\n"
          ],
          "name": "stdout"
        }
      ]
    },
    {
      "cell_type": "markdown",
      "metadata": {
        "id": "yWUZtUcZxEPm",
        "colab_type": "text"
      },
      "source": [
        "itemid'\n",
        "welcome_package_info'\n",
        "liked'\n",
        "recommendation_info'\n",
        "bundle_deal_info'\n",
        "price_max_before_discount'\n",
        "image'\n",
        "is_cc_installment_payment_eligible'\n",
        "shopid'\n",
        "can_use_wholesale'\n",
        "group_buy_info'\n",
        "reference_item_id'\n",
        "currency'\n",
        "raw_discount'\n",
        "show_free_shipping'\n",
        "video_info_list'\n",
        "ads_keyword'\n",
        "collection_id'\n",
        "images'\n",
        "match_type'\n",
        "price_before_discount'\n",
        "is_category_failed'\n",
        "show_discount'\n",
        "cmt_count'\n",
        "view_count'\n",
        "display_name'\n",
        "catid'\n",
        "json_data'\n",
        "upcoming_flash_sale'\n",
        "is_official_shop'\n",
        "brand'\n",
        "price_min'\n",
        "liked_count'\n",
        "can_use_bundle_deal'\n",
        "show_official_shop_label'\n",
        "coin_earn_label'\n",
        "price_min_before_discount'\n",
        "cb_option'\n",
        "sold'\n",
        "deduction_info'\n",
        "stock'\n",
        "status'\n",
        "price_max'\n",
        "add_on_deal_info'\n",
        "is_group_buy_item'\n",
        "flash_sale'\n",
        "price'\n",
        "shop_location'\n",
        "item_rating'\n",
        "show_official_shop_label_in_title'\n",
        "tier_variations'\n",
        "properties'\n",
        "type'\n",
        "options'\n",
        "is_adult'\n",
        "discount'\n",
        "flag'\n",
        "is_non_cc_installment_payment_eligible'\n",
        "has_lowest_price_guarantee'\n",
        "has_group_buy_stock'\n",
        "preview_info'\n",
        "welcome_package_type'\n",
        "name'\n",
        "distance'\n",
        "adsid'\n",
        "ctime'\n",
        "wholesale_tier_list'\n",
        "show_shopee_verified_label'\n",
        "campaignid'\n",
        "show_official_shop_label_in_normal_position'\n",
        "item_status'\n",
        "shopee_verified'\n",
        "hidden_price_display'\n",
        "size_chart'\n",
        "item_type'\n",
        "shipping_icon_type'\n",
        "label_ids'\n",
        "service_by_shopee_flag'\n",
        "badge_icon_type'\n",
        "historical_sold'\n",
        "campaign_stock'\n"
      ]
    },
    {
      "cell_type": "markdown",
      "metadata": {
        "id": "BjSeTjH7xOwP",
        "colab_type": "text"
      },
      "source": [
        "item['itemid'], ' ', \n",
        "item['welcome_package_info'], ' ', \n",
        "item['liked'], ' ', \n",
        "item['recommendation_info'], ' ', \n",
        "item['bundle_deal_info'], ' ', \n",
        "item['price_max_before_discount'], ' ', \n",
        "item['image'], ' ', \n",
        "item['is_cc_installment_payment_eligible'], ' ', \n",
        "item['shopid'], ' ', \n",
        "item['can_use_wholesale'], ' ', \n",
        "item['group_buy_info'], ' ', \n",
        "item['reference_item_id'], ' ', \n",
        "item['currency'], ' ', \n",
        "item['raw_discount'], ' ', \n",
        "item['show_free_shipping'], ' ', \n",
        "item['video_info_list'], ' ', \n",
        "item['ads_keyword'], ' ', \n",
        "item['collection_id'], ' ', \n",
        "item['images'], ' ', \n",
        "item['match_type'], ' ', \n",
        "item['price_before_discount'], ' ', \n",
        "item['is_category_failed'], ' ', \n",
        "item['show_discount'], ' ', \n",
        "item['cmt_count'], ' ', \n",
        "item['view_count'], ' ', \n",
        "item['display_name'], ' ', \n",
        "item['catid'], ' ', \n",
        "item['json_data'], ' ', \n",
        "item['upcoming_flash_sale'], ' ', \n",
        "item['is_official_shop'], ' ', \n",
        "item['brand'], ' ', \n",
        "item['price_min'], ' ', \n",
        "item['liked_count'], ' ', \n",
        "item['can_use_bundle_deal'], ' ', \n",
        "item['show_official_shop_label'], ' ', \n",
        "item['coin_earn_label'], ' ', \n",
        "item['price_min_before_discount'], ' ', \n",
        "item['cb_option'], ' ', \n",
        "item['sold'], ' ', \n",
        "item['deduction_info'], ' ', \n",
        "item['stock'], ' ', \n",
        "item['status'], ' ', \n",
        "item['price_max'], ' ', \n",
        "item['add_on_deal_info'], ' ', \n",
        "item['is_group_buy_item'], ' ', \n",
        "item['flash_sale'], ' ', \n",
        "item['price'], ' ', \n",
        "item['shop_location'], ' ', \n",
        "item['item_rating'], ' ', \n",
        "item['show_official_shop_label_in_title'], ' ', \n",
        "item['tier_variations'], ' ', \n",
        "item['properties'], ' ', \n",
        "item['type'], ' ', \n",
        "item['options'], ' ', \n",
        "item['is_adult'], ' ', \n",
        "item['discount'], ' ', \n",
        "item['flag'], ' ', \n",
        "item['is_non_cc_installment_payment_eligible'], ' ', \n",
        "item['has_lowest_price_guarantee'], ' ', \n",
        "item['has_group_buy_stock'], ' ', \n",
        "item['preview_info'], ' ', \n",
        "item['welcome_package_type'], ' ', \n",
        "item['name'], ' ', \n",
        "item['distance'], ' ', \n",
        "item['adsid'], ' ', \n",
        "item['ctime'], ' ', \n",
        "item['wholesale_tier_list'], ' ', \n",
        "item['show_shopee_verified_label'], ' ', \n",
        "item['campaignid'], ' ', \n",
        "item['show_official_shop_label_in_normal_position'], ' ', \n",
        "item['item_status'], ' ', \n",
        "item['shopee_verified'], ' ', \n",
        "item['hidden_price_display'], ' ', \n",
        "item['size_chart'], ' ', \n",
        "item['item_type'], ' ', \n",
        "item['shipping_icon_type'], ' ', \n",
        "item['label_ids'], ' ', \n",
        "item['service_by_shopee_flag'], ' ', \n",
        "item['badge_icon_type'], ' ', \n",
        "item['historical_sold'], ' ', \n",
        "item['campaign_stock']\n"
      ]
    },
    {
      "cell_type": "code",
      "metadata": {
        "id": "RINyGla_X-9Q",
        "colab_type": "code",
        "colab": {
          "base_uri": "https://localhost:8080/",
          "height": 547
        },
        "outputId": "3efbb9db-1c90-493d-ffa0-1756b0e7ea0e"
      },
      "source": [
        "for item in r['items']:\n",
        "    print(item)"
      ],
      "execution_count": 3,
      "outputs": [
        {
          "output_type": "stream",
          "text": [
            "{'itemid': 1240850854, 'welcome_package_info': None, 'liked': False, 'recommendation_info': None, 'bundle_deal_info': None, 'price_max_before_discount': -1, 'image': '87ff0b45c10ade8112836ff787a3114e', 'is_cc_installment_payment_eligible': False, 'shopid': 11737756, 'can_use_wholesale': True, 'group_buy_info': None, 'reference_item_id': '', 'currency': 'MYR', 'raw_discount': None, 'show_free_shipping': True, 'video_info_list': [{'duration': 60, 'video_id': 'JsUCsHfitim2QVL-', 'thumb_url': 'bfc09dad2bcb5039dfff0e39205b8ee0'}], 'ads_keyword': None, 'collection_id': None, 'images': ['87ff0b45c10ade8112836ff787a3114e', '09c58088f548d5b89f301c54c84c711f', '043af103aeb54ca97c20aaf2863266fc', 'eb8eeb297e3fbf06b6669ca0d5737b76', 'ee6c2a0808209772ec5bf18ff19f839f', '016135870faed10fe126daafe288350b'], 'match_type': None, 'price_before_discount': 0, 'is_category_failed': False, 'show_discount': 0, 'cmt_count': 811, 'view_count': 3795, 'display_name': None, 'catid': 16564, 'json_data': None, 'upcoming_flash_sale': None, 'is_official_shop': False, 'brand': 'Petronas', 'price_min': 8600000, 'liked_count': 761, 'can_use_bundle_deal': False, 'show_official_shop_label': False, 'coin_earn_label': None, 'price_min_before_discount': -1, 'cb_option': 0, 'sold': 71, 'deduction_info': None, 'stock': 49, 'status': 1, 'price_max': 8600000, 'add_on_deal_info': None, 'is_group_buy_item': None, 'flash_sale': None, 'price': 8600000, 'shop_location': 'Selangor', 'item_rating': {'rating_star': 4.960494, 'rating_count': [810, 1, 2, 1, 20, 786], 'rcount_with_image': 207, 'rcount_with_context': 413}, 'show_official_shop_label_in_title': False, 'tier_variations': [{'images': ['7a68d124c64c2bea1d29e41a731decb7', '0f231cb9384d24b50bf144fe54a00837', 'fbdfa90f8a5b8d2373b374b8c67598e9'], 'properties': None, 'type': 0, 'name': 'FREE GIFT TYPE', 'options': ['2 Cooling Towels', 'Waze phone holder', 'WIPER FLUID ADDITIVE']}], 'is_adult': None, 'discount': None, 'flag': 131074, 'is_non_cc_installment_payment_eligible': False, 'has_lowest_price_guarantee': False, 'has_group_buy_stock': None, 'preview_info': None, 'welcome_package_type': 0, 'name': 'NEW PETRONAS SYNTIUM 800 10W-40 GENUINE SEMI SYNTHETIC ENGINE OIL WITH FREE GIFT', 'distance': None, 'adsid': None, 'ctime': 1528816592, 'wholesale_tier_list': [{'min_count': 3, 'price': 8400000, 'max_count': None}], 'show_shopee_verified_label': True, 'campaignid': None, 'show_official_shop_label_in_normal_position': None, 'item_status': 'normal', 'shopee_verified': True, 'hidden_price_display': None, 'size_chart': None, 'item_type': 0, 'shipping_icon_type': None, 'label_ids': [], 'service_by_shopee_flag': 0, 'badge_icon_type': 0, 'historical_sold': 1238, 'campaign_stock': None}\n",
            "{'itemid': 1634981959, 'welcome_package_info': None, 'liked': False, 'recommendation_info': None, 'bundle_deal_info': None, 'price_max_before_discount': -1, 'image': 'd63117acaf166e3af145688b2a981d54', 'is_cc_installment_payment_eligible': False, 'shopid': 11737756, 'can_use_wholesale': True, 'group_buy_info': None, 'reference_item_id': '', 'currency': 'MYR', 'raw_discount': None, 'show_free_shipping': True, 'video_info_list': [], 'ads_keyword': None, 'collection_id': None, 'images': ['d63117acaf166e3af145688b2a981d54', '847c28c2f2f9645d645cf7b7361f6e5b'], 'match_type': None, 'price_before_discount': 0, 'is_category_failed': False, 'show_discount': 0, 'cmt_count': 66, 'view_count': 1958, 'display_name': None, 'catid': 16564, 'json_data': None, 'upcoming_flash_sale': None, 'is_official_shop': False, 'brand': 'Perodua', 'price_min': 3000000, 'liked_count': 477, 'can_use_bundle_deal': False, 'show_official_shop_label': False, 'coin_earn_label': None, 'price_min_before_discount': -1, 'cb_option': 0, 'sold': 27, 'deduction_info': None, 'stock': 182, 'status': 1, 'price_max': 3000000, 'add_on_deal_info': None, 'is_group_buy_item': None, 'flash_sale': None, 'price': 3000000, 'shop_location': 'Selangor', 'item_rating': {'rating_star': 4.863636, 'rating_count': [66, 2, 0, 0, 1, 63], 'rcount_with_image': 15, 'rcount_with_context': 20}, 'show_official_shop_label_in_title': False, 'tier_variations': [{'images': None, 'properties': None, 'type': None, 'name': 'Color', 'options': ['REAR RIGHT', 'REAR LEFT', 'FRNT RIGHT DPN KANAN', 'FRNT LEFT DPN KIRI']}], 'is_adult': None, 'discount': None, 'flag': 131074, 'is_non_cc_installment_payment_eligible': False, 'has_lowest_price_guarantee': False, 'has_group_buy_stock': None, 'preview_info': None, 'welcome_package_type': 0, 'name': '(ORIGINAL PERODUA PARTS) KANCIL DOOR RUBBER (1 PIECE) GETAH PINTU', 'distance': None, 'adsid': None, 'ctime': 1541476631, 'wholesale_tier_list': [{'min_count': 4, 'price': 2900000, 'max_count': None}], 'show_shopee_verified_label': True, 'campaignid': None, 'show_official_shop_label_in_normal_position': None, 'item_status': 'normal', 'shopee_verified': True, 'hidden_price_display': None, 'size_chart': None, 'item_type': 0, 'shipping_icon_type': None, 'label_ids': [], 'service_by_shopee_flag': 0, 'badge_icon_type': 0, 'historical_sold': 146, 'campaign_stock': None}\n",
            "{'itemid': 97691207, 'welcome_package_info': None, 'liked': False, 'recommendation_info': None, 'bundle_deal_info': None, 'price_max_before_discount': -1, 'image': 'efbc8bc7e4378b90750e76afb83a6fd2', 'is_cc_installment_payment_eligible': False, 'shopid': 11737756, 'can_use_wholesale': False, 'group_buy_info': None, 'reference_item_id': '', 'currency': 'MYR', 'raw_discount': None, 'show_free_shipping': True, 'video_info_list': [], 'ads_keyword': None, 'collection_id': None, 'images': ['efbc8bc7e4378b90750e76afb83a6fd2', '6bf1d792779f9f46020b65fb6cd5fb2c', '0ec83153a3247b872341b2cc74a671a7', '26e039c3c7e3d00c6cb15ae740047621', '966daa687749f7865a355ce2a0701afa', '6c98f43bc441bb565657be03f37fba86'], 'match_type': None, 'price_before_discount': 0, 'is_category_failed': False, 'show_discount': 0, 'cmt_count': 221, 'view_count': 1087, 'display_name': None, 'catid': 16564, 'json_data': None, 'upcoming_flash_sale': None, 'is_official_shop': False, 'brand': 'Bosch', 'price_min': 5500000, 'liked_count': 528, 'can_use_bundle_deal': False, 'show_official_shop_label': False, 'coin_earn_label': None, 'price_min_before_discount': -1, 'cb_option': 0, 'sold': 9, 'deduction_info': None, 'stock': 7, 'status': 1, 'price_max': 5500000, 'add_on_deal_info': None, 'is_group_buy_item': None, 'flash_sale': None, 'price': 5500000, 'shop_location': 'Selangor', 'item_rating': {'rating_star': 4.913636, 'rating_count': [220, 0, 2, 2, 9, 207], 'rcount_with_image': 44, 'rcount_with_context': 119}, 'show_official_shop_label_in_title': False, 'tier_variations': [], 'is_adult': None, 'discount': None, 'flag': 131074, 'is_non_cc_installment_payment_eligible': False, 'has_lowest_price_guarantee': False, 'has_group_buy_stock': None, 'preview_info': None, 'welcome_package_type': 0, 'name': 'BOSCH SUPER SPORT PLUG CABLE ISWARA WIRA SATRIA 4G13/4G15 MMC 12V', 'distance': None, 'adsid': None, 'ctime': 1480251484, 'wholesale_tier_list': [], 'show_shopee_verified_label': True, 'campaignid': None, 'show_official_shop_label_in_normal_position': None, 'item_status': 'normal', 'shopee_verified': True, 'hidden_price_display': None, 'size_chart': None, 'item_type': 0, 'shipping_icon_type': None, 'label_ids': [], 'service_by_shopee_flag': 0, 'badge_icon_type': 0, 'historical_sold': 334, 'campaign_stock': None}\n",
            "{'itemid': 1635140039, 'welcome_package_info': None, 'liked': False, 'recommendation_info': None, 'bundle_deal_info': None, 'price_max_before_discount': -1, 'image': '2ef3a1eec016250b9d1c13279a1a516e', 'is_cc_installment_payment_eligible': False, 'shopid': 11737756, 'can_use_wholesale': False, 'group_buy_info': None, 'reference_item_id': '', 'currency': 'MYR', 'raw_discount': None, 'show_free_shipping': True, 'video_info_list': [], 'ads_keyword': None, 'collection_id': None, 'images': ['2ef3a1eec016250b9d1c13279a1a516e'], 'match_type': None, 'price_before_discount': 0, 'is_category_failed': False, 'show_discount': 0, 'cmt_count': 58, 'view_count': 1275, 'display_name': None, 'catid': 16564, 'json_data': None, 'upcoming_flash_sale': None, 'is_official_shop': False, 'brand': 'Proton', 'price_min': 1200000, 'liked_count': 303, 'can_use_bundle_deal': False, 'show_official_shop_label': False, 'coin_earn_label': None, 'price_min_before_discount': -1, 'cb_option': 0, 'sold': 15, 'deduction_info': None, 'stock': 61, 'status': 1, 'price_max': 1200000, 'add_on_deal_info': None, 'is_group_buy_item': None, 'flash_sale': None, 'price': 1200000, 'shop_location': 'Selangor', 'item_rating': {'rating_star': 4.932203, 'rating_count': [59, 0, 1, 0, 1, 57], 'rcount_with_image': 12, 'rcount_with_context': 14}, 'show_official_shop_label_in_title': False, 'tier_variations': [], 'is_adult': None, 'discount': None, 'flag': 131074, 'is_non_cc_installment_payment_eligible': False, 'has_lowest_price_guarantee': False, 'has_group_buy_stock': None, 'preview_info': None, 'welcome_package_type': 0, 'name': 'ORIGINAL PROTON PARTS ABSORBER MOUNTING DUST COVER (2pcs) PROTON WAJA WIRA GEN2', 'distance': None, 'adsid': None, 'ctime': 1541479933, 'wholesale_tier_list': [], 'show_shopee_verified_label': True, 'campaignid': None, 'show_official_shop_label_in_normal_position': None, 'item_status': 'normal', 'shopee_verified': True, 'hidden_price_display': None, 'size_chart': None, 'item_type': 0, 'shipping_icon_type': None, 'label_ids': [], 'service_by_shopee_flag': 0, 'badge_icon_type': 0, 'historical_sold': 91, 'campaign_stock': None}\n",
            "{'itemid': 1818942986, 'welcome_package_info': None, 'liked': False, 'recommendation_info': None, 'bundle_deal_info': None, 'price_max_before_discount': -1, 'image': '14616b260e4514e9365ed733d9d0be58', 'is_cc_installment_payment_eligible': False, 'shopid': 11737756, 'can_use_wholesale': False, 'group_buy_info': None, 'reference_item_id': '', 'currency': 'MYR', 'raw_discount': None, 'show_free_shipping': True, 'video_info_list': [], 'ads_keyword': None, 'collection_id': None, 'images': ['14616b260e4514e9365ed733d9d0be58', 'e5128d57ac296d4f5db4b7825ad2390a'], 'match_type': None, 'price_before_discount': 0, 'is_category_failed': False, 'show_discount': 0, 'cmt_count': 71, 'view_count': 1224, 'display_name': None, 'catid': 16564, 'json_data': None, 'upcoming_flash_sale': None, 'is_official_shop': False, 'brand': 'Perodua', 'price_min': 3500000, 'liked_count': 223, 'can_use_bundle_deal': False, 'show_official_shop_label': False, 'coin_earn_label': None, 'price_min_before_discount': -1, 'cb_option': 0, 'sold': 19, 'deduction_info': None, 'stock': 12, 'status': 1, 'price_max': 3500000, 'add_on_deal_info': None, 'is_group_buy_item': None, 'flash_sale': None, 'price': 3500000, 'shop_location': 'Selangor', 'item_rating': {'rating_star': 4.859155, 'rating_count': [71, 1, 0, 1, 4, 65], 'rcount_with_image': 15, 'rcount_with_context': 22}, 'show_official_shop_label_in_title': False, 'tier_variations': [{'images': None, 'properties': None, 'type': None, 'name': 'Color', 'options': ['Front Left', 'Front Right / Driver', 'Rear Left', 'Rear Right', '1 Car = 4 pcs']}], 'is_adult': None, 'discount': None, 'flag': 2, 'is_non_cc_installment_payment_eligible': False, 'has_lowest_price_guarantee': False, 'has_group_buy_stock': None, 'preview_info': None, 'welcome_package_type': 0, 'name': '[ORIGINAL PERODUA PARTS] PERODUA VIVA WINDOW OUTER RUBBER MOULDING (1 PCS)', 'distance': None, 'adsid': None, 'ctime': 1546941340, 'wholesale_tier_list': [], 'show_shopee_verified_label': True, 'campaignid': None, 'show_official_shop_label_in_normal_position': None, 'item_status': 'normal', 'shopee_verified': True, 'hidden_price_display': None, 'size_chart': None, 'item_type': 0, 'shipping_icon_type': None, 'label_ids': [], 'service_by_shopee_flag': 0, 'badge_icon_type': 0, 'historical_sold': 104, 'campaign_stock': None}\n",
            "{'itemid': 511246850, 'welcome_package_info': None, 'liked': False, 'recommendation_info': None, 'bundle_deal_info': None, 'price_max_before_discount': -1, 'image': 'aa312d6c34b189ad0b1362ac44c477d9', 'is_cc_installment_payment_eligible': False, 'shopid': 11737756, 'can_use_wholesale': False, 'group_buy_info': None, 'reference_item_id': '', 'currency': 'MYR', 'raw_discount': None, 'show_free_shipping': True, 'video_info_list': [], 'ads_keyword': None, 'collection_id': None, 'images': ['aa312d6c34b189ad0b1362ac44c477d9', '2c67c3cbdc0e9bc4924e3a6474b6dbaa', '53f2c1bb924188c734aed1c96865e816'], 'match_type': None, 'price_before_discount': 0, 'is_category_failed': False, 'show_discount': 0, 'cmt_count': 97, 'view_count': 1753, 'display_name': None, 'catid': 16564, 'json_data': None, 'upcoming_flash_sale': None, 'is_official_shop': False, 'brand': 'Bosch', 'price_min': 1800000, 'liked_count': 222, 'can_use_bundle_deal': False, 'show_official_shop_label': False, 'coin_earn_label': None, 'price_min_before_discount': -1, 'cb_option': 0, 'sold': 10, 'deduction_info': None, 'stock': 7, 'status': 1, 'price_max': 3500000, 'add_on_deal_info': None, 'is_group_buy_item': None, 'flash_sale': None, 'price': 1800000, 'shop_location': 'Selangor', 'item_rating': {'rating_star': 4.915789, 'rating_count': [95, 0, 0, 2, 4, 89], 'rcount_with_image': 12, 'rcount_with_context': 51}, 'show_official_shop_label_in_title': False, 'tier_variations': [{'images': None, 'properties': None, 'type': None, 'name': 'Variations', 'options': ['H11 (1PCS BULB ONLY)', 'H11 2PCS BULB']}], 'is_adult': None, 'discount': None, 'flag': 131074, 'is_non_cc_installment_payment_eligible': False, 'has_lowest_price_guarantee': False, 'has_group_buy_stock': None, 'preview_info': None, 'welcome_package_type': 0, 'name': 'BOSCH H11 BULB  MYVI LAGI BEST, SAGA FL,FLX,WISH/ MOST CAR FOGLIGHT', 'distance': None, 'adsid': None, 'ctime': 1506050280, 'wholesale_tier_list': [], 'show_shopee_verified_label': True, 'campaignid': None, 'show_official_shop_label_in_normal_position': None, 'item_status': 'normal', 'shopee_verified': True, 'hidden_price_display': None, 'size_chart': None, 'item_type': 0, 'shipping_icon_type': None, 'label_ids': [], 'service_by_shopee_flag': 0, 'badge_icon_type': 0, 'historical_sold': 184, 'campaign_stock': None}\n",
            "{'itemid': 194164269, 'welcome_package_info': None, 'liked': False, 'recommendation_info': None, 'bundle_deal_info': None, 'price_max_before_discount': -1, 'image': '375f3e9aea33f68b42e125b14342e55c', 'is_cc_installment_payment_eligible': False, 'shopid': 11737756, 'can_use_wholesale': True, 'group_buy_info': None, 'reference_item_id': '', 'currency': 'MYR', 'raw_discount': None, 'show_free_shipping': True, 'video_info_list': [], 'ads_keyword': None, 'collection_id': None, 'images': ['375f3e9aea33f68b42e125b14342e55c', 'ace2a1c314016112b86b42e2abea8418', '2f3a01b58cc0af70598aabee0b08f186', '37dde0debe8e88c2e0725c6d7c353c4e', '4a7025a3da0ff2af3d98ba005f9b1bae'], 'match_type': None, 'price_before_discount': 0, 'is_category_failed': False, 'show_discount': 0, 'cmt_count': 238, 'view_count': 760, 'display_name': None, 'catid': 16564, 'json_data': None, 'upcoming_flash_sale': None, 'is_official_shop': False, 'brand': 'Perodua', 'price_min': 3400000, 'liked_count': 308, 'can_use_bundle_deal': False, 'show_official_shop_label': False, 'coin_earn_label': None, 'price_min_before_discount': -1, 'cb_option': 0, 'sold': 6, 'deduction_info': None, 'stock': 34, 'status': 1, 'price_max': 3400000, 'add_on_deal_info': None, 'is_group_buy_item': None, 'flash_sale': None, 'price': 3400000, 'shop_location': 'Selangor', 'item_rating': {'rating_star': 4.960177, 'rating_count': [226, 0, 0, 2, 5, 219], 'rcount_with_image': 25, 'rcount_with_context': 149}, 'show_official_shop_label_in_title': False, 'tier_variations': [], 'is_adult': None, 'discount': None, 'flag': 131074, 'is_non_cc_installment_payment_eligible': False, 'has_lowest_price_guarantee': False, 'has_group_buy_stock': None, 'preview_info': None, 'welcome_package_type': 0, 'name': 'ORIGINAL PERODUA BRAKE PAD FOR PERODUA MYVI LAGI BEST / AXIA 1.0 / BEZZA (FRONT)', 'distance': None, 'adsid': None, 'ctime': 1490539421, 'wholesale_tier_list': [{'min_count': 10, 'price': 3200000, 'max_count': None}], 'show_shopee_verified_label': True, 'campaignid': None, 'show_official_shop_label_in_normal_position': None, 'item_status': 'normal', 'shopee_verified': True, 'hidden_price_display': None, 'size_chart': None, 'item_type': 0, 'shipping_icon_type': None, 'label_ids': [], 'service_by_shopee_flag': 0, 'badge_icon_type': 0, 'historical_sold': 387, 'campaign_stock': None}\n",
            "{'itemid': 765829486, 'welcome_package_info': None, 'liked': False, 'recommendation_info': None, 'bundle_deal_info': None, 'price_max_before_discount': -1, 'image': '479648fc8e7ab22c9511220bc7db91d8', 'is_cc_installment_payment_eligible': False, 'shopid': 11737756, 'can_use_wholesale': False, 'group_buy_info': None, 'reference_item_id': '', 'currency': 'MYR', 'raw_discount': None, 'show_free_shipping': True, 'video_info_list': [], 'ads_keyword': None, 'collection_id': None, 'images': ['479648fc8e7ab22c9511220bc7db91d8', 'c3f09ef0453627b449f61476eb31346a'], 'match_type': None, 'price_before_discount': 0, 'is_category_failed': False, 'show_discount': 0, 'cmt_count': 65, 'view_count': 216, 'display_name': None, 'catid': 16564, 'json_data': None, 'upcoming_flash_sale': None, 'is_official_shop': False, 'brand': 'Perodua', 'price_min': 1500000, 'liked_count': 100, 'can_use_bundle_deal': False, 'show_official_shop_label': False, 'coin_earn_label': None, 'price_min_before_discount': -1, 'cb_option': 0, 'sold': 4, 'deduction_info': None, 'stock': 23, 'status': 1, 'price_max': 1500000, 'add_on_deal_info': None, 'is_group_buy_item': None, 'flash_sale': None, 'price': 1500000, 'shop_location': 'Selangor', 'item_rating': {'rating_star': 5.0, 'rating_count': [65, 0, 0, 0, 0, 65], 'rcount_with_image': 13, 'rcount_with_context': 35}, 'show_official_shop_label_in_title': False, 'tier_variations': [], 'is_adult': None, 'discount': None, 'flag': 131074, 'is_non_cc_installment_payment_eligible': False, 'has_lowest_price_guarantee': False, 'has_group_buy_stock': None, 'preview_info': None, 'welcome_package_type': 0, 'name': 'ORIGINAL PERODUA MYVI/MYVI LAGI BEST STABILIZER BAR BUSH (1 PAIR)', 'distance': None, 'adsid': None, 'ctime': 1513527245, 'wholesale_tier_list': [], 'show_shopee_verified_label': True, 'campaignid': None, 'show_official_shop_label_in_normal_position': None, 'item_status': 'normal', 'shopee_verified': True, 'hidden_price_display': None, 'size_chart': None, 'item_type': 0, 'shipping_icon_type': None, 'label_ids': [], 'service_by_shopee_flag': 0, 'badge_icon_type': 0, 'historical_sold': 103, 'campaign_stock': None}\n",
            "{'itemid': 1334224522, 'welcome_package_info': None, 'liked': False, 'recommendation_info': None, 'bundle_deal_info': None, 'price_max_before_discount': -1, 'image': '22be099b2d17c464bbc16ff97b1cbbf0', 'is_cc_installment_payment_eligible': False, 'shopid': 11737756, 'can_use_wholesale': False, 'group_buy_info': None, 'reference_item_id': '', 'currency': 'MYR', 'raw_discount': None, 'show_free_shipping': True, 'video_info_list': [], 'ads_keyword': None, 'collection_id': None, 'images': ['22be099b2d17c464bbc16ff97b1cbbf0', '847c28c2f2f9645d645cf7b7361f6e5b'], 'match_type': None, 'price_before_discount': 0, 'is_category_failed': False, 'show_discount': 0, 'cmt_count': 103, 'view_count': 1130, 'display_name': None, 'catid': 16564, 'json_data': None, 'upcoming_flash_sale': None, 'is_official_shop': False, 'brand': 'Perodua', 'price_min': 3000000, 'liked_count': 212, 'can_use_bundle_deal': False, 'show_official_shop_label': False, 'coin_earn_label': None, 'price_min_before_discount': -1, 'cb_option': 0, 'sold': 16, 'deduction_info': None, 'stock': 120, 'status': 1, 'price_max': 3000000, 'add_on_deal_info': None, 'is_group_buy_item': None, 'flash_sale': None, 'price': 3000000, 'shop_location': 'Selangor', 'item_rating': {'rating_star': 4.912621, 'rating_count': [103, 0, 0, 0, 9, 94], 'rcount_with_image': 20, 'rcount_with_context': 49}, 'show_official_shop_label_in_title': False, 'tier_variations': [{'images': None, 'properties': None, 'type': None, 'name': 'Variations', 'options': ['1 set (all 4 sides)', 'FRONT RIGHT driver', 'FRONT LEFT (passenge', 'REAR LEFT', 'REAR RIGHT']}], 'is_adult': None, 'discount': None, 'flag': 131074, 'is_non_cc_installment_payment_eligible': False, 'has_lowest_price_guarantee': False, 'has_group_buy_stock': None, 'preview_info': None, 'welcome_package_type': 0, 'name': '(ORIGINAL PERODUA PARTS) MYVI 1.0 1.3 (2005-2010) WINDOW OUTER RUBBER MOULDING', 'distance': None, 'adsid': None, 'ctime': 1531963321, 'wholesale_tier_list': [], 'show_shopee_verified_label': True, 'campaignid': None, 'show_official_shop_label_in_normal_position': None, 'item_status': 'normal', 'shopee_verified': True, 'hidden_price_display': None, 'size_chart': None, 'item_type': 0, 'shipping_icon_type': None, 'label_ids': [], 'service_by_shopee_flag': 0, 'badge_icon_type': 0, 'historical_sold': 193, 'campaign_stock': None}\n",
            "{'itemid': 2000181367, 'welcome_package_info': None, 'liked': False, 'recommendation_info': None, 'bundle_deal_info': None, 'price_max_before_discount': -1, 'image': 'aabc5ae54798d83138cfcb34f1adaf60', 'is_cc_installment_payment_eligible': False, 'shopid': 11737756, 'can_use_wholesale': False, 'group_buy_info': None, 'reference_item_id': '', 'currency': 'MYR', 'raw_discount': None, 'show_free_shipping': True, 'video_info_list': [], 'ads_keyword': None, 'collection_id': None, 'images': ['aabc5ae54798d83138cfcb34f1adaf60'], 'match_type': None, 'price_before_discount': 0, 'is_category_failed': False, 'show_discount': 0, 'cmt_count': 61, 'view_count': 1320, 'display_name': None, 'catid': 16564, 'json_data': None, 'upcoming_flash_sale': None, 'is_official_shop': False, 'brand': 'Perodua', 'price_min': 1800000, 'liked_count': 91, 'can_use_bundle_deal': False, 'show_official_shop_label': False, 'coin_earn_label': None, 'price_min_before_discount': -1, 'cb_option': 0, 'sold': 23, 'deduction_info': None, 'stock': 14, 'status': 1, 'price_max': 1800000, 'add_on_deal_info': None, 'is_group_buy_item': None, 'flash_sale': None, 'price': 1800000, 'shop_location': 'Selangor', 'item_rating': {'rating_star': 5.0, 'rating_count': [61, 0, 0, 0, 0, 61], 'rcount_with_image': 10, 'rcount_with_context': 9}, 'show_official_shop_label_in_title': False, 'tier_variations': [{'images': None, 'properties': None, 'type': None, 'name': 'POSITION', 'options': ['UPPER ATAS 2pcs', 'LOWER BAWAH 2pcs']}], 'is_adult': None, 'discount': None, 'flag': 2, 'is_non_cc_installment_payment_eligible': False, 'has_lowest_price_guarantee': False, 'has_group_buy_stock': None, 'preview_info': None, 'welcome_package_type': 0, 'name': '(ORIGINAL PERODUA PARTS) REAR COIL SPRING RUBBER GETAH SPRING BELAKANG MYVI 1.0 1.3 1.5 LAGI BEST VIVA', 'distance': None, 'adsid': None, 'ctime': 1552524115, 'wholesale_tier_list': [], 'show_shopee_verified_label': True, 'campaignid': None, 'show_official_shop_label_in_normal_position': None, 'item_status': 'normal', 'shopee_verified': True, 'hidden_price_display': None, 'size_chart': None, 'item_type': 0, 'shipping_icon_type': None, 'label_ids': [], 'service_by_shopee_flag': 0, 'badge_icon_type': 0, 'historical_sold': 131, 'campaign_stock': None}\n",
            "{'itemid': 535982286, 'welcome_package_info': None, 'liked': False, 'recommendation_info': None, 'bundle_deal_info': None, 'price_max_before_discount': -1, 'image': '0b3accd99b0eeba28a49464b2c770a60', 'is_cc_installment_payment_eligible': False, 'shopid': 11737756, 'can_use_wholesale': True, 'group_buy_info': None, 'reference_item_id': '', 'currency': 'MYR', 'raw_discount': None, 'show_free_shipping': True, 'video_info_list': [], 'ads_keyword': None, 'collection_id': None, 'images': ['0b3accd99b0eeba28a49464b2c770a60', '2b55246f6d30443816949c72418523c2', '14102fcad30e49dbf9f976265f4a83f6', '052877012f0fa53da42c898702f124f6', '373b11a192e0f2c27378672abbf2eefe', 'f04296b6b31e80a566ff1357b2e3af71', '722a3d61eb63c42d80a290f127c53b8e'], 'match_type': None, 'price_before_discount': 0, 'is_category_failed': False, 'show_discount': 0, 'cmt_count': 44, 'view_count': 889, 'display_name': None, 'catid': 16564, 'json_data': None, 'upcoming_flash_sale': None, 'is_official_shop': False, 'brand': 'Perodua', 'price_min': 3800000, 'liked_count': 205, 'can_use_bundle_deal': False, 'show_official_shop_label': False, 'coin_earn_label': None, 'price_min_before_discount': -1, 'cb_option': 0, 'sold': 15, 'deduction_info': None, 'stock': 22, 'status': 1, 'price_max': 3800000, 'add_on_deal_info': None, 'is_group_buy_item': None, 'flash_sale': None, 'price': 3800000, 'shop_location': 'Selangor', 'item_rating': {'rating_star': 4.795455, 'rating_count': [44, 0, 0, 1, 7, 36], 'rcount_with_image': 6, 'rcount_with_context': 6}, 'show_official_shop_label_in_title': False, 'tier_variations': [{'images': None, 'properties': None, 'type': None, 'name': 'Color', 'options': ['FRONT LH - PASSENGER', 'FRONT RH - DRIVER', 'REAR LH - PASSENGER', 'REAR RH - DRIVER']}], 'is_adult': None, 'discount': None, 'flag': 131074, 'is_non_cc_installment_payment_eligible': False, 'has_lowest_price_guarantee': False, 'has_group_buy_stock': None, 'preview_info': None, 'welcome_package_type': 0, 'name': '[ORIGINAL PERODUA PART] KELISA DOOR RUBBER WEATHERSTRIP 1 PC (GETAH PINTU)', 'distance': None, 'adsid': None, 'ctime': 1506781349, 'wholesale_tier_list': [{'min_count': 4, 'price': 3700000, 'max_count': None}], 'show_shopee_verified_label': True, 'campaignid': None, 'show_official_shop_label_in_normal_position': None, 'item_status': 'normal', 'shopee_verified': True, 'hidden_price_display': None, 'size_chart': None, 'item_type': 0, 'shipping_icon_type': None, 'label_ids': [], 'service_by_shopee_flag': 0, 'badge_icon_type': 0, 'historical_sold': 111, 'campaign_stock': None}\n",
            "{'itemid': 1500839756, 'welcome_package_info': None, 'liked': False, 'recommendation_info': None, 'bundle_deal_info': None, 'price_max_before_discount': -1, 'image': '96ce7d138c396682f50167ba0fe93db4', 'is_cc_installment_payment_eligible': False, 'shopid': 11737756, 'can_use_wholesale': True, 'group_buy_info': None, 'reference_item_id': '', 'currency': 'MYR', 'raw_discount': None, 'show_free_shipping': True, 'video_info_list': [], 'ads_keyword': None, 'collection_id': None, 'images': ['96ce7d138c396682f50167ba0fe93db4', '3c08bf8df13b335814fa6f7d427ba789', '847c28c2f2f9645d645cf7b7361f6e5b'], 'match_type': None, 'price_before_discount': 0, 'is_category_failed': False, 'show_discount': 0, 'cmt_count': 39, 'view_count': 527, 'display_name': None, 'catid': 16564, 'json_data': None, 'upcoming_flash_sale': None, 'is_official_shop': False, 'brand': 'Proton', 'price_min': 3400000, 'liked_count': 120, 'can_use_bundle_deal': False, 'show_official_shop_label': False, 'coin_earn_label': None, 'price_min_before_discount': -1, 'cb_option': 0, 'sold': 11, 'deduction_info': None, 'stock': 8, 'status': 1, 'price_max': 3400000, 'add_on_deal_info': None, 'is_group_buy_item': None, 'flash_sale': None, 'price': 3400000, 'shop_location': 'Selangor', 'item_rating': {'rating_star': 4.948718, 'rating_count': [39, 0, 0, 0, 2, 37], 'rcount_with_image': 11, 'rcount_with_context': 12}, 'show_official_shop_label_in_title': False, 'tier_variations': [{'images': None, 'properties': None, 'type': None, 'name': 'POSITION', 'options': ['FRONT-LEFT', 'FRONT-RIGHT', 'REAR-LEFT', 'REAR-RIGHT']}], 'is_adult': None, 'discount': None, 'flag': 131074, 'is_non_cc_installment_payment_eligible': False, 'has_lowest_price_guarantee': False, 'has_group_buy_stock': None, 'preview_info': None, 'welcome_package_type': 0, 'name': '(ORIGINAL PERODUA PARTS) KENARI DOOR RUBBER 1 PC GETAH PINTU', 'distance': None, 'adsid': None, 'ctime': 1537163970, 'wholesale_tier_list': [{'min_count': 4, 'price': 3300000, 'max_count': None}], 'show_shopee_verified_label': True, 'campaignid': None, 'show_official_shop_label_in_normal_position': None, 'item_status': 'normal', 'shopee_verified': True, 'hidden_price_display': None, 'size_chart': None, 'item_type': 0, 'shipping_icon_type': None, 'label_ids': [], 'service_by_shopee_flag': 0, 'badge_icon_type': 0, 'historical_sold': 122, 'campaign_stock': None}\n",
            "{'itemid': 1629001754, 'welcome_package_info': None, 'liked': False, 'recommendation_info': None, 'bundle_deal_info': None, 'price_max_before_discount': -1, 'image': '0f1ed4e4790cceb13e3848a446c3ff89', 'is_cc_installment_payment_eligible': False, 'shopid': 11737756, 'can_use_wholesale': False, 'group_buy_info': None, 'reference_item_id': '', 'currency': 'MYR', 'raw_discount': None, 'show_free_shipping': True, 'video_info_list': [], 'ads_keyword': None, 'collection_id': None, 'images': ['0f1ed4e4790cceb13e3848a446c3ff89'], 'match_type': None, 'price_before_discount': 0, 'is_category_failed': False, 'show_discount': 0, 'cmt_count': 33, 'view_count': 523, 'display_name': None, 'catid': 16564, 'json_data': None, 'upcoming_flash_sale': None, 'is_official_shop': False, 'brand': 'Perodua', 'price_min': 4800000, 'liked_count': 108, 'can_use_bundle_deal': False, 'show_official_shop_label': False, 'coin_earn_label': None, 'price_min_before_discount': -1, 'cb_option': 0, 'sold': 3, 'deduction_info': None, 'stock': 3, 'status': 1, 'price_max': 4800000, 'add_on_deal_info': None, 'is_group_buy_item': None, 'flash_sale': None, 'price': 4800000, 'shop_location': 'Selangor', 'item_rating': {'rating_star': 5.0, 'rating_count': [33, 0, 0, 0, 0, 33], 'rcount_with_image': 9, 'rcount_with_context': 10}, 'show_official_shop_label_in_title': False, 'tier_variations': [], 'is_adult': None, 'discount': None, 'flag': 131074, 'is_non_cc_installment_payment_eligible': False, 'has_lowest_price_guarantee': False, 'has_group_buy_stock': None, 'preview_info': None, 'welcome_package_type': 0, 'name': '(ORIGINAL PERODUA PARTS) KELISA KENARI COMPLETE WATER HOSE SET 7pcs', 'distance': None, 'adsid': None, 'ctime': 1541253104, 'wholesale_tier_list': [], 'show_shopee_verified_label': True, 'campaignid': None, 'show_official_shop_label_in_normal_position': None, 'item_status': 'normal', 'shopee_verified': True, 'hidden_price_display': None, 'size_chart': None, 'item_type': 0, 'shipping_icon_type': None, 'label_ids': [], 'service_by_shopee_flag': 0, 'badge_icon_type': 0, 'historical_sold': 44, 'campaign_stock': None}\n",
            "{'itemid': 1936870566, 'welcome_package_info': None, 'liked': False, 'recommendation_info': None, 'bundle_deal_info': None, 'price_max_before_discount': -1, 'image': 'dc4e1fdd817c34a4002052ce278bd030', 'is_cc_installment_payment_eligible': False, 'shopid': 11737756, 'can_use_wholesale': False, 'group_buy_info': None, 'reference_item_id': '', 'currency': 'MYR', 'raw_discount': None, 'show_free_shipping': True, 'video_info_list': [], 'ads_keyword': None, 'collection_id': None, 'images': ['dc4e1fdd817c34a4002052ce278bd030', '327c1fd8f163bc8578cf91e14fdc9457'], 'match_type': None, 'price_before_discount': 0, 'is_category_failed': False, 'show_discount': 0, 'cmt_count': 37, 'view_count': 734, 'display_name': None, 'catid': 16564, 'json_data': None, 'upcoming_flash_sale': None, 'is_official_shop': False, 'brand': 'Proton', 'price_min': 7000000, 'liked_count': 71, 'can_use_bundle_deal': False, 'show_official_shop_label': False, 'coin_earn_label': None, 'price_min_before_discount': -1, 'cb_option': 0, 'sold': 10, 'deduction_info': None, 'stock': 36, 'status': 1, 'price_max': 13500000, 'add_on_deal_info': None, 'is_group_buy_item': None, 'flash_sale': None, 'price': 7000000, 'shop_location': 'Selangor', 'item_rating': {'rating_star': 4.918919, 'rating_count': [37, 0, 0, 1, 1, 35], 'rcount_with_image': 7, 'rcount_with_context': 10}, 'show_official_shop_label_in_title': False, 'tier_variations': [{'images': None, 'properties': None, 'type': None, 'name': 'Color', 'options': ['Left/Kiri', 'Right/Kanan', '2 PIECES']}], 'is_adult': None, 'discount': None, 'flag': 2, 'is_non_cc_installment_payment_eligible': False, 'has_lowest_price_guarantee': False, 'has_group_buy_stock': None, 'preview_info': None, 'welcome_package_type': 0, 'name': '[ORIGINAL PROTON PART] PROTON IRIZ 1.3 / 1.6 ROOF MOULDING (1 PCS) GETAH BUMBUNG', 'distance': None, 'adsid': None, 'ctime': 1550918198, 'wholesale_tier_list': [], 'show_shopee_verified_label': True, 'campaignid': None, 'show_official_shop_label_in_normal_position': None, 'item_status': 'normal', 'shopee_verified': True, 'hidden_price_display': None, 'size_chart': None, 'item_type': 0, 'shipping_icon_type': None, 'label_ids': [], 'service_by_shopee_flag': 0, 'badge_icon_type': 0, 'historical_sold': 51, 'campaign_stock': None}\n",
            "{'itemid': 1635049979, 'welcome_package_info': None, 'liked': False, 'recommendation_info': None, 'bundle_deal_info': None, 'price_max_before_discount': -1, 'image': 'b4b02c59a7691fad9b84fbdb065d9d38', 'is_cc_installment_payment_eligible': False, 'shopid': 11737756, 'can_use_wholesale': True, 'group_buy_info': None, 'reference_item_id': '', 'currency': 'MYR', 'raw_discount': None, 'show_free_shipping': True, 'video_info_list': [], 'ads_keyword': None, 'collection_id': None, 'images': ['b4b02c59a7691fad9b84fbdb065d9d38', '3c08bf8df13b335814fa6f7d427ba789', '847c28c2f2f9645d645cf7b7361f6e5b'], 'match_type': None, 'price_before_discount': 0, 'is_category_failed': False, 'show_discount': 0, 'cmt_count': 11, 'view_count': 450, 'display_name': None, 'catid': 16564, 'json_data': None, 'upcoming_flash_sale': None, 'is_official_shop': False, 'brand': 'Perodua', 'price_min': 3800000, 'liked_count': 84, 'can_use_bundle_deal': False, 'show_official_shop_label': False, 'coin_earn_label': None, 'price_min_before_discount': -1, 'cb_option': 0, 'sold': 3, 'deduction_info': None, 'stock': 5, 'status': 1, 'price_max': 3800000, 'add_on_deal_info': None, 'is_group_buy_item': None, 'flash_sale': None, 'price': 3800000, 'shop_location': 'Selangor', 'item_rating': {'rating_star': 4.909091, 'rating_count': [11, 0, 0, 0, 1, 10], 'rcount_with_image': 1, 'rcount_with_context': 3}, 'show_official_shop_label_in_title': False, 'tier_variations': [{'images': None, 'properties': None, 'type': None, 'name': 'Color', 'options': ['FRNT RIGHT DPN KANAN', 'FRNT LEFT DPN KIRI', 'REAR RIGHT', 'REAR LEFT']}], 'is_adult': None, 'discount': None, 'flag': 131074, 'is_non_cc_installment_payment_eligible': False, 'has_lowest_price_guarantee': False, 'has_group_buy_stock': None, 'preview_info': None, 'welcome_package_type': 0, 'name': '(ORIGINAL PERODUA PARTS) VIVA 660 850 1.0  DOOR RUBBER', 'distance': None, 'adsid': None, 'ctime': 1541477928, 'wholesale_tier_list': [{'min_count': 4, 'price': 3700000, 'max_count': None}], 'show_shopee_verified_label': True, 'campaignid': None, 'show_official_shop_label_in_normal_position': None, 'item_status': 'normal', 'shopee_verified': True, 'hidden_price_display': None, 'size_chart': None, 'item_type': 0, 'shipping_icon_type': None, 'label_ids': [], 'service_by_shopee_flag': 0, 'badge_icon_type': 0, 'historical_sold': 21, 'campaign_stock': None}\n",
            "{'itemid': 303737703, 'welcome_package_info': None, 'liked': False, 'recommendation_info': None, 'bundle_deal_info': None, 'price_max_before_discount': -1, 'image': 'bcfb87cac1095976e908f5853c5794f5', 'is_cc_installment_payment_eligible': False, 'shopid': 11737756, 'can_use_wholesale': False, 'group_buy_info': None, 'reference_item_id': '', 'currency': 'MYR', 'raw_discount': None, 'show_free_shipping': False, 'video_info_list': [], 'ads_keyword': None, 'collection_id': None, 'images': ['bcfb87cac1095976e908f5853c5794f5', '7a6c3ba4174aed708ed367c1e0ee0058', '2074f98ef34370d0e880f3e5b3dfdd9c', 'e8e8fc3be7179e34bbc4b097252854fb'], 'match_type': None, 'price_before_discount': 0, 'is_category_failed': False, 'show_discount': 0, 'cmt_count': 38, 'view_count': 673, 'display_name': None, 'catid': 16564, 'json_data': None, 'upcoming_flash_sale': None, 'is_official_shop': False, 'brand': 'Perodua', 'price_min': 12800000, 'liked_count': 167, 'can_use_bundle_deal': False, 'show_official_shop_label': False, 'coin_earn_label': None, 'price_min_before_discount': -1, 'cb_option': 0, 'sold': 4, 'deduction_info': None, 'stock': 10, 'status': 1, 'price_max': 37000000, 'add_on_deal_info': None, 'is_group_buy_item': None, 'flash_sale': None, 'price': 12800000, 'shop_location': 'Selangor', 'item_rating': {'rating_star': 5.0, 'rating_count': [30, 0, 0, 0, 0, 30], 'rcount_with_image': 8, 'rcount_with_context': 21}, 'show_official_shop_label_in_title': False, 'tier_variations': [{'images': None, 'properties': None, 'type': None, 'name': 'Variations', 'options': ['FRONT + REAR', 'REAR ONLY (1 PAIR)', 'FRONT ONLY (1 PAIR)']}], 'is_adult': None, 'discount': None, 'flag': 131072, 'is_non_cc_installment_payment_eligible': False, 'has_lowest_price_guarantee': False, 'has_group_buy_stock': None, 'preview_info': None, 'welcome_package_type': 0, 'name': 'ORIGINAL PERODUA SHOCK ABSORBER for PERODUA MYVI 1.0, 1.3 [2005-2010] (1 SET)', 'distance': None, 'adsid': None, 'ctime': 1497194114, 'wholesale_tier_list': [], 'show_shopee_verified_label': True, 'campaignid': None, 'show_official_shop_label_in_normal_position': None, 'item_status': 'normal', 'shopee_verified': True, 'hidden_price_display': None, 'size_chart': None, 'item_type': 0, 'shipping_icon_type': None, 'label_ids': [], 'service_by_shopee_flag': 0, 'badge_icon_type': 0, 'historical_sold': 39, 'campaign_stock': None}\n",
            "{'itemid': 2270505773, 'welcome_package_info': None, 'liked': False, 'recommendation_info': None, 'bundle_deal_info': None, 'price_max_before_discount': -1, 'image': '4b962fc0a4942f2e42d176a5f7bdfbe2', 'is_cc_installment_payment_eligible': False, 'shopid': 11737756, 'can_use_wholesale': False, 'group_buy_info': None, 'reference_item_id': '', 'currency': 'MYR', 'raw_discount': None, 'show_free_shipping': True, 'video_info_list': [], 'ads_keyword': None, 'collection_id': None, 'images': ['4b962fc0a4942f2e42d176a5f7bdfbe2'], 'match_type': None, 'price_before_discount': 0, 'is_category_failed': False, 'show_discount': 0, 'cmt_count': 6, 'view_count': 539, 'display_name': None, 'catid': 16564, 'json_data': None, 'upcoming_flash_sale': None, 'is_official_shop': False, 'brand': 'Perodua', 'price_min': 3400000, 'liked_count': 63, 'can_use_bundle_deal': False, 'show_official_shop_label': False, 'coin_earn_label': None, 'price_min_before_discount': -1, 'cb_option': 0, 'sold': 1, 'deduction_info': None, 'stock': 6, 'status': 1, 'price_max': 3400000, 'add_on_deal_info': None, 'is_group_buy_item': None, 'flash_sale': None, 'price': 3400000, 'shop_location': 'Selangor', 'item_rating': {'rating_star': 4.5, 'rating_count': [6, 0, 0, 1, 1, 4], 'rcount_with_image': 0, 'rcount_with_context': 2}, 'show_official_shop_label_in_title': False, 'tier_variations': [{'images': None, 'properties': None, 'type': None, 'name': 'Color', 'options': ['Front LH Passenger', 'Front RH Driver', 'Rear Left = Right', '1 Set (All 4 Side)']}], 'is_adult': None, 'discount': None, 'flag': 2, 'is_non_cc_installment_payment_eligible': False, 'has_lowest_price_guarantee': False, 'has_group_buy_stock': None, 'preview_info': None, 'welcome_package_type': 0, 'name': '[ORIGINAL PERODUA PART] INNER WINDOW RUBBER MOULDING DALAM - PERODUA MYVI 1.0 / 1.3 (2005-2010) 1 PIECE', 'distance': None, 'adsid': None, 'ctime': 1558885392, 'wholesale_tier_list': [], 'show_shopee_verified_label': True, 'campaignid': None, 'show_official_shop_label_in_normal_position': None, 'item_status': 'normal', 'shopee_verified': True, 'hidden_price_display': None, 'size_chart': None, 'item_type': 0, 'shipping_icon_type': None, 'label_ids': [], 'service_by_shopee_flag': 0, 'badge_icon_type': 0, 'historical_sold': 11, 'campaign_stock': None}\n",
            "{'itemid': 202807559, 'welcome_package_info': None, 'liked': False, 'recommendation_info': None, 'bundle_deal_info': None, 'price_max_before_discount': -1, 'image': 'dc26f9344a5ea23c484429e6f6603693', 'is_cc_installment_payment_eligible': False, 'shopid': 11737756, 'can_use_wholesale': True, 'group_buy_info': None, 'reference_item_id': '', 'currency': 'MYR', 'raw_discount': None, 'show_free_shipping': True, 'video_info_list': [], 'ads_keyword': None, 'collection_id': None, 'images': ['dc26f9344a5ea23c484429e6f6603693', 'd1fe20c85b749973d7a610274e55da1d'], 'match_type': None, 'price_before_discount': 0, 'is_category_failed': False, 'show_discount': 0, 'cmt_count': 173, 'view_count': 206, 'display_name': None, 'catid': 16564, 'json_data': None, 'upcoming_flash_sale': None, 'is_official_shop': False, 'brand': 'Bosch', 'price_min': 1000000, 'liked_count': 71, 'can_use_bundle_deal': False, 'show_official_shop_label': False, 'coin_earn_label': None, 'price_min_before_discount': -1, 'cb_option': 0, 'sold': 11, 'deduction_info': None, 'stock': 10, 'status': 1, 'price_max': 1000000, 'add_on_deal_info': None, 'is_group_buy_item': None, 'flash_sale': None, 'price': 1000000, 'shop_location': 'Selangor', 'item_rating': {'rating_star': 4.976048, 'rating_count': [167, 0, 0, 0, 4, 163], 'rcount_with_image': 20, 'rcount_with_context': 65}, 'show_official_shop_label_in_title': False, 'tier_variations': [], 'is_adult': None, 'discount': None, 'flag': 131074, 'is_non_cc_installment_payment_eligible': False, 'has_lowest_price_guarantee': False, 'has_group_buy_stock': None, 'preview_info': None, 'welcome_package_type': 0, 'name': 'BOSCH OIL FILTER FOR PROTON 1.3 campro 1.6/1.8/2.0/ CFE small type BLM FLX', 'distance': None, 'adsid': None, 'ctime': 1491109734, 'wholesale_tier_list': [{'min_count': 6, 'price': 975000, 'max_count': 11}, {'min_count': 12, 'price': 950000, 'max_count': None}], 'show_shopee_verified_label': True, 'campaignid': None, 'show_official_shop_label_in_normal_position': None, 'item_status': 'normal', 'shopee_verified': True, 'hidden_price_display': None, 'size_chart': None, 'item_type': 0, 'shipping_icon_type': None, 'label_ids': [], 'service_by_shopee_flag': 0, 'badge_icon_type': 0, 'historical_sold': 283, 'campaign_stock': None}\n",
            "{'itemid': 2783633195, 'welcome_package_info': None, 'liked': False, 'recommendation_info': None, 'bundle_deal_info': None, 'price_max_before_discount': -1, 'image': 'a849df91f2230c0846a1a8e319e4d492', 'is_cc_installment_payment_eligible': False, 'shopid': 11737756, 'can_use_wholesale': True, 'group_buy_info': None, 'reference_item_id': '', 'currency': 'MYR', 'raw_discount': None, 'show_free_shipping': False, 'video_info_list': [], 'ads_keyword': None, 'collection_id': None, 'images': ['a849df91f2230c0846a1a8e319e4d492'], 'match_type': None, 'price_before_discount': 0, 'is_category_failed': False, 'show_discount': 0, 'cmt_count': 8, 'view_count': 1141, 'display_name': None, 'catid': 16564, 'json_data': None, 'upcoming_flash_sale': None, 'is_official_shop': False, 'brand': 'Proton', 'price_min': 3500000, 'liked_count': 32, 'can_use_bundle_deal': False, 'show_official_shop_label': False, 'coin_earn_label': None, 'price_min_before_discount': -1, 'cb_option': 0, 'sold': 9, 'deduction_info': None, 'stock': 14, 'status': 1, 'price_max': 3500000, 'add_on_deal_info': None, 'is_group_buy_item': None, 'flash_sale': None, 'price': 3500000, 'shop_location': 'Selangor', 'item_rating': {'rating_star': 5.0, 'rating_count': [8, 0, 0, 0, 0, 8], 'rcount_with_image': 3, 'rcount_with_context': 4}, 'show_official_shop_label_in_title': False, 'tier_variations': [{'images': ['3951e5d6d577f44942060798294559b3', '2f7f6638a09618f44791137395760403'], 'properties': None, 'type': 0, 'name': 'Position', 'options': ['KIRI (LH) PASSANGER', 'KANAN (RH) DRIVER']}], 'is_adult': None, 'discount': None, 'flag': 0, 'is_non_cc_installment_payment_eligible': False, 'has_lowest_price_guarantee': False, 'has_group_buy_stock': None, 'preview_info': None, 'welcome_package_type': 0, 'name': '(ORIGINAL PROTON PARTS) SUNVISOR PROTON ISWARA SAGA 1.3 1.5 MEGAVALVE LMST LMSS 1987-2007 1pcs', 'distance': None, 'adsid': None, 'ctime': 1567858400, 'wholesale_tier_list': [{'min_count': 2, 'price': 3400000, 'max_count': None}], 'show_shopee_verified_label': True, 'campaignid': None, 'show_official_shop_label_in_normal_position': None, 'item_status': 'normal', 'shopee_verified': True, 'hidden_price_display': None, 'size_chart': None, 'item_type': 0, 'shipping_icon_type': None, 'label_ids': [], 'service_by_shopee_flag': 0, 'badge_icon_type': 0, 'historical_sold': 8, 'campaign_stock': None}\n",
            "{'itemid': 365018654, 'welcome_package_info': None, 'liked': False, 'recommendation_info': None, 'bundle_deal_info': None, 'price_max_before_discount': -1, 'image': '54c25ea37e9c69a42315efacac0c726b', 'is_cc_installment_payment_eligible': False, 'shopid': 11737756, 'can_use_wholesale': False, 'group_buy_info': None, 'reference_item_id': '', 'currency': 'MYR', 'raw_discount': None, 'show_free_shipping': True, 'video_info_list': [], 'ads_keyword': None, 'collection_id': None, 'images': ['54c25ea37e9c69a42315efacac0c726b', 'cb39209f1758352c43b07521548f0690', '101b0542a75dad478ceb3848ceaacbb4', '1b49e6d5ac765d368615a9235e0d68b4', 'a0a21536f766913fd815ba083ca3c397'], 'match_type': None, 'price_before_discount': 0, 'is_category_failed': False, 'show_discount': 0, 'cmt_count': 28, 'view_count': 424, 'display_name': None, 'catid': 16564, 'json_data': None, 'upcoming_flash_sale': None, 'is_official_shop': False, 'brand': 'Bosch', 'price_min': 3500000, 'liked_count': 59, 'can_use_bundle_deal': False, 'show_official_shop_label': False, 'coin_earn_label': None, 'price_min_before_discount': -1, 'cb_option': 0, 'sold': 6, 'deduction_info': None, 'stock': 5, 'status': 1, 'price_max': 3500000, 'add_on_deal_info': None, 'is_group_buy_item': None, 'flash_sale': None, 'price': 3500000, 'shop_location': 'Selangor', 'item_rating': {'rating_star': 4.857143, 'rating_count': [28, 1, 0, 0, 0, 27], 'rcount_with_image': 2, 'rcount_with_context': 18}, 'show_official_shop_label_in_title': False, 'tier_variations': [], 'is_adult': None, 'discount': None, 'flag': 131074, 'is_non_cc_installment_payment_eligible': False, 'has_lowest_price_guarantee': False, 'has_group_buy_stock': None, 'preview_info': None, 'welcome_package_type': 0, 'name': 'BOSCH H8 BULB 1 PAIR (MADE IN KOREA) MYVI 1ST MODEL SE FOGLAMP BULB JAZZ GK5', 'distance': None, 'adsid': None, 'ctime': 1500219496, 'wholesale_tier_list': [], 'show_shopee_verified_label': True, 'campaignid': None, 'show_official_shop_label_in_normal_position': None, 'item_status': 'normal', 'shopee_verified': True, 'hidden_price_display': None, 'size_chart': None, 'item_type': 0, 'shipping_icon_type': None, 'label_ids': [], 'service_by_shopee_flag': 0, 'badge_icon_type': 0, 'historical_sold': 57, 'campaign_stock': None}\n",
            "{'itemid': 1311841641, 'welcome_package_info': None, 'liked': False, 'recommendation_info': None, 'bundle_deal_info': None, 'price_max_before_discount': -1, 'image': '777baf0e07311f995d76c87c416d0979', 'is_cc_installment_payment_eligible': False, 'shopid': 11737756, 'can_use_wholesale': False, 'group_buy_info': None, 'reference_item_id': '', 'currency': 'MYR', 'raw_discount': None, 'show_free_shipping': True, 'video_info_list': [], 'ads_keyword': None, 'collection_id': None, 'images': ['777baf0e07311f995d76c87c416d0979', '719c9d0f6c4f7134d2845fb51e749120', '984acd10d3f3c9cf3fd384670af55c1e'], 'match_type': None, 'price_before_discount': 0, 'is_category_failed': False, 'show_discount': 0, 'cmt_count': 34, 'view_count': 184, 'display_name': None, 'catid': 16564, 'json_data': None, 'upcoming_flash_sale': None, 'is_official_shop': False, 'brand': 'Proton', 'price_min': 3000000, 'liked_count': 79, 'can_use_bundle_deal': False, 'show_official_shop_label': False, 'coin_earn_label': None, 'price_min_before_discount': -1, 'cb_option': 0, 'sold': 2, 'deduction_info': None, 'stock': 6, 'status': 1, 'price_max': 3000000, 'add_on_deal_info': None, 'is_group_buy_item': None, 'flash_sale': None, 'price': 3000000, 'shop_location': 'Selangor', 'item_rating': {'rating_star': 4.941176, 'rating_count': [34, 0, 0, 0, 2, 32], 'rcount_with_image': 5, 'rcount_with_context': 14}, 'show_official_shop_label_in_title': False, 'tier_variations': [], 'is_adult': None, 'discount': None, 'flag': 131074, 'is_non_cc_installment_payment_eligible': False, 'has_lowest_price_guarantee': False, 'has_group_buy_stock': None, 'preview_info': None, 'welcome_package_type': 0, 'name': '(ORIGINAL PROTON PARTS) SAGA BLM FL FLX PERSONA EXORA REAR TRUNK EMBLEM', 'distance': None, 'adsid': None, 'ctime': 1531270197, 'wholesale_tier_list': [], 'show_shopee_verified_label': True, 'campaignid': None, 'show_official_shop_label_in_normal_position': None, 'item_status': 'normal', 'shopee_verified': True, 'hidden_price_display': None, 'size_chart': None, 'item_type': 0, 'shipping_icon_type': None, 'label_ids': [], 'service_by_shopee_flag': 0, 'badge_icon_type': 0, 'historical_sold': 52, 'campaign_stock': None}\n",
            "{'itemid': 677145069, 'welcome_package_info': None, 'liked': False, 'recommendation_info': None, 'bundle_deal_info': None, 'price_max_before_discount': -1, 'image': '86a224f59c4c69e298cc29a2870c08a9', 'is_cc_installment_payment_eligible': False, 'shopid': 11737756, 'can_use_wholesale': False, 'group_buy_info': None, 'reference_item_id': '', 'currency': 'MYR', 'raw_discount': None, 'show_free_shipping': True, 'video_info_list': [], 'ads_keyword': None, 'collection_id': None, 'images': ['86a224f59c4c69e298cc29a2870c08a9', 'f4bb44b5578a8afb8477ff6cbe8eaa6d', '062c8009fb26041ccee6d57013877d77', '5078d4d7c2ee6e48942ff6f211d5d0be', '6b718a7d59e251983a337085df4edf0a', '76340eedb898ba85c3971ea88f676842', '47ad79a41584ce70cf3f85247c36d2ce'], 'match_type': None, 'price_before_discount': 0, 'is_category_failed': False, 'show_discount': 0, 'cmt_count': 84, 'view_count': 92, 'display_name': None, 'catid': 26, 'json_data': None, 'upcoming_flash_sale': None, 'is_official_shop': False, 'brand': 'No Brand', 'price_min': 340000, 'liked_count': 110, 'can_use_bundle_deal': False, 'show_official_shop_label': False, 'coin_earn_label': None, 'price_min_before_discount': -1, 'cb_option': 0, 'sold': 10, 'deduction_info': None, 'stock': 145, 'status': 1, 'price_max': 400000, 'add_on_deal_info': None, 'is_group_buy_item': None, 'flash_sale': None, 'price': 340000, 'shop_location': 'Selangor', 'item_rating': {'rating_star': 4.916667, 'rating_count': [84, 0, 0, 2, 3, 79], 'rcount_with_image': 19, 'rcount_with_context': 39}, 'show_official_shop_label_in_title': False, 'tier_variations': [{'images': None, 'properties': None, 'type': None, 'name': 'Variations', 'options': ['A (9cm x 5cm) 104pcs', 'B (13cm x 7cm) 104pc', 'C (8cm x 9cm) 104pcs', 'D (5cm x 9cm) 104pcs', 'E (5cm x 7cm) 104pcs', 'F (7.5cmx5cm) 100pcs']}], 'is_adult': None, 'discount': None, 'flag': 131074, 'is_non_cc_installment_payment_eligible': False, 'has_lowest_price_guarantee': False, 'has_group_buy_stock': None, 'preview_info': None, 'welcome_package_type': 0, 'name': '[READY STOCK!!] FRAGILE STICKER 100 / 104 PCS POSLAJU STICKER COURIER STICKER', 'distance': None, 'adsid': None, 'ctime': 1510447890, 'wholesale_tier_list': [], 'show_shopee_verified_label': True, 'campaignid': None, 'show_official_shop_label_in_normal_position': None, 'item_status': 'normal', 'shopee_verified': True, 'hidden_price_display': None, 'size_chart': None, 'item_type': 0, 'shipping_icon_type': None, 'label_ids': [], 'service_by_shopee_flag': 0, 'badge_icon_type': 0, 'historical_sold': 240, 'campaign_stock': None}\n",
            "{'itemid': 159162765, 'welcome_package_info': None, 'liked': False, 'recommendation_info': None, 'bundle_deal_info': None, 'price_max_before_discount': -1, 'image': '0a14c3d0bb895196d55552c566883618', 'is_cc_installment_payment_eligible': False, 'shopid': 11737756, 'can_use_wholesale': False, 'group_buy_info': None, 'reference_item_id': '', 'currency': 'MYR', 'raw_discount': None, 'show_free_shipping': False, 'video_info_list': [], 'ads_keyword': None, 'collection_id': None, 'images': ['0a14c3d0bb895196d55552c566883618', '2f21abc3c023a6f0eeae3d21375b692c', 'ed20fb58650e21f5404810c19d1213b5', '932bd495a7cc5ff8238efd671eb2a2f3', 'e2e34c1d28b8339d20012c78a28b6d12', '804e3b48a45ecf3fabfbcb8b2348bf78', '62bb5e5aa1bdc82630a8dd58d61860cb'], 'match_type': None, 'price_before_discount': 0, 'is_category_failed': False, 'show_discount': 0, 'cmt_count': 14, 'view_count': 114, 'display_name': None, 'catid': 16564, 'json_data': None, 'upcoming_flash_sale': None, 'is_official_shop': False, 'brand': 'TRW', 'price_min': 12000000, 'liked_count': 69, 'can_use_bundle_deal': False, 'show_official_shop_label': False, 'coin_earn_label': None, 'price_min_before_discount': -1, 'cb_option': 0, 'sold': 0, 'deduction_info': None, 'stock': 5, 'status': 1, 'price_max': 12000000, 'add_on_deal_info': None, 'is_group_buy_item': None, 'flash_sale': None, 'price': 12000000, 'shop_location': 'Selangor', 'item_rating': {'rating_star': 5.0, 'rating_count': [14, 0, 0, 0, 0, 14], 'rcount_with_image': 3, 'rcount_with_context': 9}, 'show_official_shop_label_in_title': False, 'tier_variations': [], 'is_adult': None, 'discount': None, 'flag': 131072, 'is_non_cc_installment_payment_eligible': False, 'has_lowest_price_guarantee': False, 'has_group_buy_stock': None, 'preview_info': None, 'welcome_package_type': 0, 'name': 'TRW BRAKE DISC ROTOR for PROTON SAGA BLM FL FLX, SAVVY (1 PAIR, FRONT)', 'distance': None, 'adsid': None, 'ctime': 1488121809, 'wholesale_tier_list': [], 'show_shopee_verified_label': True, 'campaignid': None, 'show_official_shop_label_in_normal_position': None, 'item_status': 'normal', 'shopee_verified': True, 'hidden_price_display': None, 'size_chart': None, 'item_type': 0, 'shipping_icon_type': None, 'label_ids': [], 'service_by_shopee_flag': 0, 'badge_icon_type': 0, 'historical_sold': 18, 'campaign_stock': None}\n",
            "{'itemid': 2000198033, 'welcome_package_info': None, 'liked': False, 'recommendation_info': None, 'bundle_deal_info': None, 'price_max_before_discount': -1, 'image': '0e66d6fe2b1445b859d81f4537e35005', 'is_cc_installment_payment_eligible': False, 'shopid': 11737756, 'can_use_wholesale': False, 'group_buy_info': None, 'reference_item_id': '', 'currency': 'MYR', 'raw_discount': None, 'show_free_shipping': True, 'video_info_list': [], 'ads_keyword': None, 'collection_id': None, 'images': ['0e66d6fe2b1445b859d81f4537e35005'], 'match_type': None, 'price_before_discount': 0, 'is_category_failed': False, 'show_discount': 0, 'cmt_count': 13, 'view_count': 601, 'display_name': None, 'catid': 16564, 'json_data': None, 'upcoming_flash_sale': None, 'is_official_shop': False, 'brand': 'Proton', 'price_min': 2000000, 'liked_count': 57, 'can_use_bundle_deal': False, 'show_official_shop_label': False, 'coin_earn_label': None, 'price_min_before_discount': -1, 'cb_option': 0, 'sold': 5, 'deduction_info': None, 'stock': 4, 'status': 1, 'price_max': 2500000, 'add_on_deal_info': None, 'is_group_buy_item': None, 'flash_sale': None, 'price': 2000000, 'shop_location': 'Selangor', 'item_rating': {'rating_star': 4.846154, 'rating_count': [13, 0, 0, 1, 0, 12], 'rcount_with_image': 2, 'rcount_with_context': 6}, 'show_official_shop_label_in_title': False, 'tier_variations': [{'images': None, 'properties': None, 'type': None, 'name': 'POSITION', 'options': ['UPPER ATAS 2pcs', 'LOWER BWH 2pcs']}], 'is_adult': None, 'discount': None, 'flag': 2, 'is_non_cc_installment_payment_eligible': False, 'has_lowest_price_guarantee': False, 'has_group_buy_stock': None, 'preview_info': None, 'welcome_package_type': 0, 'name': 'ORIGINAL PROTON PARTS REAR COIL SPRING RUBBER PROTON SAGA BLM FL FLX SAVVY 1.2', 'distance': None, 'adsid': None, 'ctime': 1552525209, 'wholesale_tier_list': [], 'show_shopee_verified_label': True, 'campaignid': None, 'show_official_shop_label_in_normal_position': None, 'item_status': 'normal', 'shopee_verified': True, 'hidden_price_display': None, 'size_chart': None, 'item_type': 0, 'shipping_icon_type': None, 'label_ids': [], 'service_by_shopee_flag': 0, 'badge_icon_type': 0, 'historical_sold': 27, 'campaign_stock': None}\n",
            "{'itemid': 883418138, 'welcome_package_info': None, 'liked': False, 'recommendation_info': None, 'bundle_deal_info': None, 'price_max_before_discount': -1, 'image': '7be0d8bc83c7d4015c498153deec4fee', 'is_cc_installment_payment_eligible': False, 'shopid': 11737756, 'can_use_wholesale': False, 'group_buy_info': None, 'reference_item_id': '', 'currency': 'MYR', 'raw_discount': None, 'show_free_shipping': True, 'video_info_list': [], 'ads_keyword': None, 'collection_id': None, 'images': ['7be0d8bc83c7d4015c498153deec4fee'], 'match_type': None, 'price_before_discount': 0, 'is_category_failed': False, 'show_discount': 0, 'cmt_count': 31, 'view_count': 674, 'display_name': None, 'catid': 16564, 'json_data': None, 'upcoming_flash_sale': None, 'is_official_shop': False, 'brand': 'Perodua', 'price_min': 35000000, 'liked_count': 90, 'can_use_bundle_deal': False, 'show_official_shop_label': False, 'coin_earn_label': None, 'price_min_before_discount': -1, 'cb_option': 0, 'sold': 6, 'deduction_info': None, 'stock': 93, 'status': 1, 'price_max': 35000000, 'add_on_deal_info': None, 'is_group_buy_item': None, 'flash_sale': None, 'price': 35000000, 'shop_location': 'Selangor', 'item_rating': {'rating_star': 4.833333, 'rating_count': [24, 0, 1, 0, 1, 22], 'rcount_with_image': 7, 'rcount_with_context': 15}, 'show_official_shop_label_in_title': False, 'tier_variations': [], 'is_adult': None, 'discount': None, 'flag': 131074, 'is_non_cc_installment_payment_eligible': False, 'has_lowest_price_guarantee': False, 'has_group_buy_stock': None, 'preview_info': None, 'welcome_package_type': 0, 'name': 'ORIGINAL PERODUA PART MYVI 1.3 AUTO (2005-2010) ENGINE MOUNTING KIT (3pcs)', 'distance': None, 'adsid': None, 'ctime': 1517394383, 'wholesale_tier_list': [], 'show_shopee_verified_label': True, 'campaignid': None, 'show_official_shop_label_in_normal_position': None, 'item_status': 'normal', 'shopee_verified': True, 'hidden_price_display': None, 'size_chart': None, 'item_type': 0, 'shipping_icon_type': None, 'label_ids': [], 'service_by_shopee_flag': 0, 'badge_icon_type': 0, 'historical_sold': 37, 'campaign_stock': None}\n",
            "{'itemid': 171862881, 'welcome_package_info': None, 'liked': False, 'recommendation_info': None, 'bundle_deal_info': None, 'price_max_before_discount': -1, 'image': '543327f22b77cef255f76468f85f8a18', 'is_cc_installment_payment_eligible': False, 'shopid': 11737756, 'can_use_wholesale': True, 'group_buy_info': None, 'reference_item_id': '', 'currency': 'MYR', 'raw_discount': None, 'show_free_shipping': True, 'video_info_list': [], 'ads_keyword': None, 'collection_id': None, 'images': ['543327f22b77cef255f76468f85f8a18', '966c9d9848d0e20f4eb2cabb0d2bfdfc', '1a0fbd10e16f36373dbe00f3df99680f', 'ae5ac2aec337ccba89d734618fb8b0f2', '3b83e569bd3eec6b8bc8f0bd9e7132c2'], 'match_type': None, 'price_before_discount': 0, 'is_category_failed': False, 'show_discount': 0, 'cmt_count': 81, 'view_count': 334, 'display_name': None, 'catid': 16564, 'json_data': None, 'upcoming_flash_sale': None, 'is_official_shop': False, 'brand': 'Bardahl', 'price_min': 8000000, 'liked_count': 80, 'can_use_bundle_deal': False, 'show_official_shop_label': False, 'coin_earn_label': None, 'price_min_before_discount': -1, 'cb_option': 0, 'sold': 9, 'deduction_info': None, 'stock': 7, 'status': 1, 'price_max': 8000000, 'add_on_deal_info': None, 'is_group_buy_item': None, 'flash_sale': None, 'price': 8000000, 'shop_location': 'Selangor', 'item_rating': {'rating_star': 4.875, 'rating_count': [80, 2, 0, 0, 2, 76], 'rcount_with_image': 11, 'rcount_with_context': 50}, 'show_official_shop_label_in_title': False, 'tier_variations': [], 'is_adult': None, 'discount': None, 'flag': 131074, 'is_non_cc_installment_payment_eligible': False, 'has_lowest_price_guarantee': False, 'has_group_buy_stock': None, 'preview_info': None, 'welcome_package_type': 0, 'name': '(PROMO!!) GENUINE BARDAHL ENGINE OIL 5W-30 FULLY SYNTHETIC 4L 5W30', 'distance': None, 'adsid': None, 'ctime': 1488988399, 'wholesale_tier_list': [{'min_count': 6, 'price': 7700000, 'max_count': None}], 'show_shopee_verified_label': True, 'campaignid': None, 'show_official_shop_label_in_normal_position': None, 'item_status': 'normal', 'shopee_verified': True, 'hidden_price_display': None, 'size_chart': None, 'item_type': 0, 'shipping_icon_type': None, 'label_ids': [], 'service_by_shopee_flag': 0, 'badge_icon_type': 0, 'historical_sold': 153, 'campaign_stock': None}\n",
            "{'itemid': 374973326, 'welcome_package_info': None, 'liked': False, 'recommendation_info': None, 'bundle_deal_info': None, 'price_max_before_discount': -1, 'image': 'a969953dbaac65c5192a89354769c54c', 'is_cc_installment_payment_eligible': False, 'shopid': 11737756, 'can_use_wholesale': False, 'group_buy_info': None, 'reference_item_id': '', 'currency': 'MYR', 'raw_discount': None, 'show_free_shipping': True, 'video_info_list': [], 'ads_keyword': None, 'collection_id': None, 'images': ['a969953dbaac65c5192a89354769c54c', '45037e39bf1d9b7675c6dd3d48fe40b0'], 'match_type': None, 'price_before_discount': 0, 'is_category_failed': False, 'show_discount': 0, 'cmt_count': 43, 'view_count': 635, 'display_name': None, 'catid': 16564, 'json_data': None, 'upcoming_flash_sale': None, 'is_official_shop': False, 'brand': 'Tan Chong', 'price_min': 14000000, 'liked_count': 65, 'can_use_bundle_deal': False, 'show_official_shop_label': False, 'coin_earn_label': None, 'price_min_before_discount': -1, 'cb_option': 0, 'sold': 10, 'deduction_info': None, 'stock': 73, 'status': 1, 'price_max': 14000000, 'add_on_deal_info': None, 'is_group_buy_item': None, 'flash_sale': None, 'price': 14000000, 'shop_location': 'Selangor', 'item_rating': {'rating_star': 4.9, 'rating_count': [40, 0, 0, 1, 2, 37], 'rcount_with_image': 11, 'rcount_with_context': 20}, 'show_official_shop_label_in_title': False, 'tier_variations': [], 'is_adult': None, 'discount': None, 'flag': 131074, 'is_non_cc_installment_payment_eligible': False, 'has_lowest_price_guarantee': False, 'has_group_buy_stock': None, 'preview_info': None, 'welcome_package_type': 0, 'name': 'ORIGINAL TAN CHONG NISSAN GRAND LIVINA, LATIO FRONT ABSORBER MOUNTING (1 PAIR)', 'distance': None, 'adsid': None, 'ctime': 1500722326, 'wholesale_tier_list': [], 'show_shopee_verified_label': True, 'campaignid': None, 'show_official_shop_label_in_normal_position': None, 'item_status': 'normal', 'shopee_verified': True, 'hidden_price_display': None, 'size_chart': None, 'item_type': 0, 'shipping_icon_type': None, 'label_ids': [], 'service_by_shopee_flag': 0, 'badge_icon_type': 0, 'historical_sold': 59, 'campaign_stock': None}\n",
            "{'itemid': 814565665, 'welcome_package_info': None, 'liked': False, 'recommendation_info': None, 'bundle_deal_info': None, 'price_max_before_discount': -1, 'image': '53c0ec9d3d320e4343455c7d0e33d81e', 'is_cc_installment_payment_eligible': False, 'shopid': 11737756, 'can_use_wholesale': False, 'group_buy_info': None, 'reference_item_id': '', 'currency': 'MYR', 'raw_discount': None, 'show_free_shipping': True, 'video_info_list': [], 'ads_keyword': None, 'collection_id': None, 'images': ['53c0ec9d3d320e4343455c7d0e33d81e', 'be5a435aff9a3b597cdb5c904ab4bde9', '9e734113ca740c09104a26556ed7fbcc', '4ff0fcb771bb9602e27f4e3b94cffc47', 'a6b08f48a640217e504d4cbed805f762', 'f6c7dac016dde23e91b6164319f7644b'], 'match_type': None, 'price_before_discount': 0, 'is_category_failed': False, 'show_discount': 0, 'cmt_count': 35, 'view_count': 642, 'display_name': None, 'catid': 16564, 'json_data': None, 'upcoming_flash_sale': None, 'is_official_shop': False, 'brand': 'Toyota', 'price_min': 5400000, 'liked_count': 90, 'can_use_bundle_deal': False, 'show_official_shop_label': False, 'coin_earn_label': None, 'price_min_before_discount': -1, 'cb_option': 0, 'sold': 7, 'deduction_info': None, 'stock': 1, 'status': 1, 'price_max': 5400000, 'add_on_deal_info': None, 'is_group_buy_item': None, 'flash_sale': None, 'price': 5400000, 'shop_location': 'Selangor', 'item_rating': {'rating_star': 4.971429, 'rating_count': [35, 0, 0, 0, 1, 34], 'rcount_with_image': 4, 'rcount_with_context': 19}, 'show_official_shop_label_in_title': False, 'tier_variations': [], 'is_adult': None, 'discount': None, 'flag': 131074, 'is_non_cc_installment_payment_eligible': False, 'has_lowest_price_guarantee': False, 'has_group_buy_stock': None, 'preview_info': None, 'welcome_package_type': 0, 'name': 'ORIGINAL TOYOTA VIOS NCP42 NCP93 REAR ABSORBER BUSHING/ MOUNTING-1 PAIR L+R', 'distance': None, 'adsid': None, 'ctime': 1515314329, 'wholesale_tier_list': [], 'show_shopee_verified_label': True, 'campaignid': None, 'show_official_shop_label_in_normal_position': None, 'item_status': 'normal', 'shopee_verified': True, 'hidden_price_display': None, 'size_chart': None, 'item_type': 0, 'shipping_icon_type': None, 'label_ids': [], 'service_by_shopee_flag': 0, 'badge_icon_type': 0, 'historical_sold': 55, 'campaign_stock': None}\n",
            "{'itemid': 275937821, 'welcome_package_info': None, 'liked': False, 'recommendation_info': None, 'bundle_deal_info': None, 'price_max_before_discount': -1, 'image': 'f7b6a68fabf0c66351c8b2ed3472b07c', 'is_cc_installment_payment_eligible': False, 'shopid': 11737756, 'can_use_wholesale': False, 'group_buy_info': None, 'reference_item_id': '', 'currency': 'MYR', 'raw_discount': None, 'show_free_shipping': True, 'video_info_list': [], 'ads_keyword': None, 'collection_id': None, 'images': ['f7b6a68fabf0c66351c8b2ed3472b07c', '29ff2b4341055efae14bfffd4d371de3', '19370433755444128f44cb004bf1b4a3'], 'match_type': None, 'price_before_discount': 0, 'is_category_failed': False, 'show_discount': 0, 'cmt_count': 9, 'view_count': 309, 'display_name': None, 'catid': 16564, 'json_data': None, 'upcoming_flash_sale': None, 'is_official_shop': False, 'brand': 'Perodua', 'price_min': 4800000, 'liked_count': 52, 'can_use_bundle_deal': False, 'show_official_shop_label': False, 'coin_earn_label': None, 'price_min_before_discount': -1, 'cb_option': 0, 'sold': 6, 'deduction_info': None, 'stock': 3, 'status': 1, 'price_max': 4800000, 'add_on_deal_info': None, 'is_group_buy_item': None, 'flash_sale': None, 'price': 4800000, 'shop_location': 'Selangor', 'item_rating': {'rating_star': 5.0, 'rating_count': [9, 0, 0, 0, 0, 9], 'rcount_with_image': 0, 'rcount_with_context': 0}, 'show_official_shop_label_in_title': False, 'tier_variations': [], 'is_adult': None, 'discount': None, 'flag': 131074, 'is_non_cc_installment_payment_eligible': False, 'has_lowest_price_guarantee': False, 'has_group_buy_stock': None, 'preview_info': None, 'welcome_package_type': 0, 'name': '[ORIGINAL PERODUA PART] KELISA REAR BOOT TRUNK LID RUBBER GETAH BONNET BELAKANG', 'distance': None, 'adsid': None, 'ctime': 1495638971, 'wholesale_tier_list': [], 'show_shopee_verified_label': True, 'campaignid': None, 'show_official_shop_label_in_normal_position': None, 'item_status': 'normal', 'shopee_verified': True, 'hidden_price_display': None, 'size_chart': None, 'item_type': 0, 'shipping_icon_type': None, 'label_ids': [], 'service_by_shopee_flag': 0, 'badge_icon_type': 0, 'historical_sold': 17, 'campaign_stock': None}\n",
            "{'itemid': 312841737, 'welcome_package_info': None, 'liked': False, 'recommendation_info': None, 'bundle_deal_info': None, 'price_max_before_discount': -1, 'image': '17b17cab5d633922206c4f361a7f2586', 'is_cc_installment_payment_eligible': False, 'shopid': 11737756, 'can_use_wholesale': False, 'group_buy_info': None, 'reference_item_id': '', 'currency': 'MYR', 'raw_discount': None, 'show_free_shipping': True, 'video_info_list': [], 'ads_keyword': None, 'collection_id': None, 'images': ['17b17cab5d633922206c4f361a7f2586', '816ddfa0a2c1ed52b94e75080235291c', 'f455dca4f4f91e9340572e7ce2cdf830'], 'match_type': None, 'price_before_discount': 0, 'is_category_failed': False, 'show_discount': 0, 'cmt_count': 58, 'view_count': 136, 'display_name': None, 'catid': 16564, 'json_data': None, 'upcoming_flash_sale': None, 'is_official_shop': False, 'brand': 'Bosch', 'price_min': 7000000, 'liked_count': 89, 'can_use_bundle_deal': False, 'show_official_shop_label': False, 'coin_earn_label': None, 'price_min_before_discount': -1, 'cb_option': 0, 'sold': 0, 'deduction_info': None, 'stock': 1, 'status': 1, 'price_max': 7000000, 'add_on_deal_info': None, 'is_group_buy_item': None, 'flash_sale': None, 'price': 7000000, 'shop_location': 'Selangor', 'item_rating': {'rating_star': 4.909091, 'rating_count': [55, 1, 0, 0, 1, 53], 'rcount_with_image': 4, 'rcount_with_context': 34}, 'show_official_shop_label_in_title': False, 'tier_variations': [], 'is_adult': None, 'discount': None, 'flag': 131074, 'is_non_cc_installment_payment_eligible': False, 'has_lowest_price_guarantee': False, 'has_group_buy_stock': None, 'preview_info': None, 'welcome_package_type': 0, 'name': 'HOT PROMO! BOSCH IRIDIUM FUSION SPARK PLUG (3pcs) Kelisa, Kenari, Viva', 'distance': None, 'adsid': None, 'ctime': 1497802698, 'wholesale_tier_list': [], 'show_shopee_verified_label': True, 'campaignid': None, 'show_official_shop_label_in_normal_position': None, 'item_status': 'normal', 'shopee_verified': True, 'hidden_price_display': None, 'size_chart': None, 'item_type': 0, 'shipping_icon_type': None, 'label_ids': [], 'service_by_shopee_flag': 0, 'badge_icon_type': 0, 'historical_sold': 92, 'campaign_stock': None}\n"
          ],
          "name": "stdout"
        }
      ]
    },
    {
      "cell_type": "code",
      "metadata": {
        "id": "5wkikNr3etFG",
        "colab_type": "code",
        "colab": {
          "base_uri": "https://localhost:8080/",
          "height": 1000
        },
        "outputId": "052948e4-5490-4dd7-e173-d4a10bc33342"
      },
      "source": [
        "import requests\n",
        "\n",
        "headers = {\n",
        "    'User-Agent': 'Mozilla/5',\n",
        "    'Referer': 'https://shopee.com.my/oneauto2017'\n",
        "}\n",
        "\n",
        "url = 'https://shopee.com.my/api/v2/item/get?itemid=1240850854&shopid=11737756'  \n",
        "r = requests.get(url, headers = headers).json()\n",
        "\n",
        "\n",
        "for a in r['item']:\n",
        "    print(a)"
      ],
      "execution_count": 17,
      "outputs": [
        {
          "output_type": "stream",
          "text": [
            "itemid\n",
            "price_max_before_discount\n",
            "item_status\n",
            "can_use_wholesale\n",
            "show_free_shipping\n",
            "estimated_days\n",
            "is_hot_sales\n",
            "is_slash_price_item\n",
            "upcoming_flash_sale\n",
            "slash_lowest_price\n",
            "condition\n",
            "add_on_deal_info\n",
            "is_non_cc_installment_payment_eligible\n",
            "categories\n",
            "ctime\n",
            "name\n",
            "show_shopee_verified_label\n",
            "size_chart\n",
            "is_pre_order\n",
            "service_by_shopee_flag\n",
            "historical_sold\n",
            "reference_item_id\n",
            "recommendation_info\n",
            "bundle_deal_info\n",
            "price_max\n",
            "has_lowest_price_guarantee\n",
            "shipping_icon_type\n",
            "images\n",
            "price_before_discount\n",
            "cod_flag\n",
            "catid\n",
            "is_official_shop\n",
            "coin_earn_label\n",
            "hashtag_list\n",
            "sold\n",
            "makeup\n",
            "item_rating\n",
            "show_official_shop_label_in_title\n",
            "discount\n",
            "reason\n",
            "label_ids\n",
            "has_group_buy_stock\n",
            "attributes\n",
            "badge_icon_type\n",
            "liked\n",
            "cmt_count\n",
            "image\n",
            "is_cc_installment_payment_eligible\n",
            "shopid\n",
            "video_info_list\n",
            "installment_plans\n",
            "view_count\n",
            "liked_count\n",
            "show_official_shop_label\n",
            "price_min_before_discount\n",
            "show_discount\n",
            "preview_info\n",
            "flag\n",
            "wholesale_tier_list\n",
            "group_buy_info\n",
            "shopee_verified\n",
            "hidden_price_display\n",
            "welcome_package_info\n",
            "coin_info\n",
            "is_adult\n",
            "currency\n",
            "raw_discount\n",
            "is_category_failed\n",
            "price_min\n",
            "can_use_bundle_deal\n",
            "cb_option\n",
            "brand\n",
            "stock\n",
            "status\n",
            "bundle_deal_id\n",
            "is_group_buy_item\n",
            "description\n",
            "flash_sale\n",
            "models\n",
            "price\n",
            "shop_location\n",
            "tier_variations\n",
            "makeups\n",
            "welcome_package_type\n",
            "show_official_shop_label_in_normal_position\n",
            "item_type\n"
          ],
          "name": "stdout"
        }
      ]
    },
    {
      "cell_type": "code",
      "metadata": {
        "id": "EkIBQdE2nclB",
        "colab_type": "code",
        "colab": {}
      },
      "source": [
        ""
      ],
      "execution_count": 0,
      "outputs": []
    }
  ]
}