{
  "nbformat": 4,
  "nbformat_minor": 0,
  "metadata": {
    "colab": {
      "name": "cars classifier.ipynb",
      "provenance": [],
      "collapsed_sections": []
    },
    "kernelspec": {
      "name": "python3",
      "display_name": "Python 3"
    }
  },
  "cells": [
    {
      "cell_type": "code",
      "metadata": {
        "id": "zjqzMlayaxbS",
        "colab_type": "code",
        "outputId": "64978c38-b3af-42cf-a77d-a99905f290f6",
        "colab": {
          "base_uri": "https://localhost:8080/",
          "height": 204
        }
      },
      "source": [
        "\n",
        "#install depenencies\n",
        "!pip install kaggle"
      ],
      "execution_count": 0,
      "outputs": [
        {
          "output_type": "stream",
          "text": [
            "Requirement already satisfied: kaggle in /usr/local/lib/python3.6/dist-packages (1.5.4)\n",
            "Requirement already satisfied: python-dateutil in /usr/local/lib/python3.6/dist-packages (from kaggle) (2.5.3)\n",
            "Requirement already satisfied: six>=1.10 in /usr/local/lib/python3.6/dist-packages (from kaggle) (1.12.0)\n",
            "Requirement already satisfied: certifi in /usr/local/lib/python3.6/dist-packages (from kaggle) (2019.6.16)\n",
            "Requirement already satisfied: urllib3<1.25,>=1.21.1 in /usr/local/lib/python3.6/dist-packages (from kaggle) (1.24.3)\n",
            "Requirement already satisfied: tqdm in /usr/local/lib/python3.6/dist-packages (from kaggle) (4.28.1)\n",
            "Requirement already satisfied: python-slugify in /usr/local/lib/python3.6/dist-packages (from kaggle) (3.0.2)\n",
            "Requirement already satisfied: requests in /usr/local/lib/python3.6/dist-packages (from kaggle) (2.21.0)\n",
            "Requirement already satisfied: text-unidecode==1.2 in /usr/local/lib/python3.6/dist-packages (from python-slugify->kaggle) (1.2)\n",
            "Requirement already satisfied: idna<2.9,>=2.5 in /usr/local/lib/python3.6/dist-packages (from requests->kaggle) (2.8)\n",
            "Requirement already satisfied: chardet<3.1.0,>=3.0.2 in /usr/local/lib/python3.6/dist-packages (from requests->kaggle) (3.0.4)\n"
          ],
          "name": "stdout"
        }
      ]
    },
    {
      "cell_type": "code",
      "metadata": {
        "id": "uMouzIvPbKmp",
        "colab_type": "code",
        "outputId": "f77f299f-c6de-4332-ab19-ad474433689a",
        "colab": {
          "resources": {
            "http://localhost:8080/nbextensions/google.colab/files.js": {
              "data": "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",
              "ok": true,
              "headers": [
                [
                  "content-type",
                  "application/javascript"
                ]
              ],
              "status": 200,
              "status_text": ""
            }
          },
          "base_uri": "https://localhost:8080/",
          "height": 91
        }
      },
      "source": [
        "from google.colab import files\n",
        "files.upload()"
      ],
      "execution_count": 0,
      "outputs": [
        {
          "output_type": "display_data",
          "data": {
            "text/html": [
              "\n",
              "     <input type=\"file\" id=\"files-f79259ef-3f18-44a1-8da6-e3f0313acb2a\" name=\"files[]\" multiple disabled />\n",
              "     <output id=\"result-f79259ef-3f18-44a1-8da6-e3f0313acb2a\">\n",
              "      Upload widget is only available when the cell has been executed in the\n",
              "      current browser session. Please rerun this cell to enable.\n",
              "      </output>\n",
              "      <script src=\"/nbextensions/google.colab/files.js\"></script> "
            ],
            "text/plain": [
              "<IPython.core.display.HTML object>"
            ]
          },
          "metadata": {
            "tags": []
          }
        },
        {
          "output_type": "stream",
          "text": [
            "Saving kaggle.json to kaggle.json\n"
          ],
          "name": "stdout"
        },
        {
          "output_type": "execute_result",
          "data": {
            "text/plain": [
              "{'kaggle.json': b'{\"username\":\"yongseng\",\"key\":\"0722b0b843bb14d835dd60069ee10f5e\"}'}"
            ]
          },
          "metadata": {
            "tags": []
          },
          "execution_count": 3
        }
      ]
    },
    {
      "cell_type": "code",
      "metadata": {
        "id": "KZdWzWZgb_Mu",
        "colab_type": "code",
        "colab": {}
      },
      "source": [
        "#before importing the dataset we want to use this code\n",
        "\\# The Kaggle API client expects this file to be in ~/.kaggle,\n",
        "!mkdir -p ~/.kaggle\n",
        "!cp kaggle.json ~/.kaggle/\n",
        "\n",
        "# This permissions change avoids a warning on Kaggle tool startup.\n",
        "!chmod 600 ~/.kaggle/kaggle.json"
      ],
      "execution_count": 0,
      "outputs": []
    },
    {
      "cell_type": "code",
      "metadata": {
        "id": "EdaeNcUIjZmA",
        "colab_type": "code",
        "outputId": "671ed5c3-f7c9-477a-cbda-e21ee7226c62",
        "colab": {
          "base_uri": "https://localhost:8080/",
          "height": 34
        }
      },
      "source": [
        "from google.colab import drive\n",
        "drive.mount('/content/drive')"
      ],
      "execution_count": 0,
      "outputs": [
        {
          "output_type": "stream",
          "text": [
            "Drive already mounted at /content/drive; to attempt to forcibly remount, call drive.mount(\"/content/drive\", force_remount=True).\n"
          ],
          "name": "stdout"
        }
      ]
    },
    {
      "cell_type": "code",
      "metadata": {
        "id": "lemGDy60mLgQ",
        "colab_type": "code",
        "colab": {}
      },
      "source": [
        "import os\n",
        "os.chdir('/content/drive/My Drive/Colab Notebooks/carsdata')#change dir"
      ],
      "execution_count": 0,
      "outputs": []
    },
    {
      "cell_type": "code",
      "metadata": {
        "id": "RJclE4kbmfLP",
        "colab_type": "code",
        "outputId": "402a7af7-04e4-465f-ab2e-9be21a9a91fb",
        "colab": {
          "base_uri": "https://localhost:8080/",
          "height": 34
        }
      },
      "source": [
        "#Check the directory\n",
        "!pwd"
      ],
      "execution_count": 0,
      "outputs": [
        {
          "output_type": "stream",
          "text": [
            "/content/drive/My Drive/Colab Notebooks/carsdata\n"
          ],
          "name": "stdout"
        }
      ]
    },
    {
      "cell_type": "code",
      "metadata": {
        "id": "-82121DlcA52",
        "colab_type": "code",
        "outputId": "1b5babff-a0fd-4833-9b95-2981416fd886",
        "colab": {
          "base_uri": "https://localhost:8080/",
          "height": 68
        }
      },
      "source": [
        "!kaggle datasets download -d jutrera/stanford-car-dataset-by-classes-folder"
      ],
      "execution_count": 0,
      "outputs": [
        {
          "output_type": "stream",
          "text": [
            "Downloading stanford-car-dataset-by-classes-folder.zip to /content/drive/My Drive/Colab Notebooks/carsdata\n",
            "100% 1.82G/1.82G [00:24<00:00, 83.8MB/s]\n",
            "100% 1.82G/1.82G [00:24<00:00, 78.6MB/s]\n"
          ],
          "name": "stdout"
        }
      ]
    },
    {
      "cell_type": "code",
      "metadata": {
        "id": "OvelmjqZeP8C",
        "colab_type": "code",
        "outputId": "ea603f6e-ade1-45ee-8325-0c4b179aa4ff",
        "colab": {
          "base_uri": "https://localhost:8080/",
          "height": 102
        }
      },
      "source": [
        "!unzip stanford-car-dataset-by-classes-folder.zip"
      ],
      "execution_count": 0,
      "outputs": [
        {
          "output_type": "stream",
          "text": [
            "Archive:  stanford-car-dataset-by-classes-folder.zip\n",
            "  inflating: car_data.zip            \n",
            "  inflating: anno_train.csv          \n",
            "  inflating: names.csv               \n",
            "  inflating: anno_test.csv           \n"
          ],
          "name": "stdout"
        }
      ]
    },
    {
      "cell_type": "code",
      "metadata": {
        "id": "__m_UAnwekYr",
        "colab_type": "code",
        "colab": {}
      },
      "source": [
        "!unzip car_data.zip"
      ],
      "execution_count": 0,
      "outputs": []
    },
    {
      "cell_type": "code",
      "metadata": {
        "id": "GRkelUXffCKV",
        "colab_type": "code",
        "colab": {}
      },
      "source": [
        "import split_folders\n",
        "\n",
        "# Split with a ratio.\n",
        "# To only split into training and validation set, set a tuple to `ratio`, i.e, `(.8, .2)`.\n",
        "split_folders.ratio('/content/drive/My Drive/Colab Notebooks/carsdata/car_data/train', output='/content/drive/My Drive/Colab Notebooks/carsdata/car_data/output', seed=1337, ratio=(.8, .2)) # default values\n",
        "\n",
        "# Split val/test with a fixed number of items e.g. 100 for each set.\n",
        "# To only split into training and validation set, use a single number to `fixed`, i.e., `10`.\n",
        "#split_folders.fixed('input_folder', output=\"output\", seed=1337, fixed=(100, 100), oversample=False) # default values"
      ],
      "execution_count": 0,
      "outputs": []
    },
    {
      "cell_type": "code",
      "metadata": {
        "id": "IJYAnrH3N2Rf",
        "colab_type": "code",
        "colab": {
          "base_uri": "https://localhost:8080/",
          "height": 867
        },
        "outputId": "98750b7a-21fc-4745-8c84-f96acdb6730d"
      },
      "source": [
        "import requests\n",
        "\n",
        "headers = {\n",
        "    'User-Agent': 'Mozilla/5',\n",
        "    'Referer': 'https://shopee.com.my/search?keyword=mouse'\n",
        "}\n",
        "\n",
        "url = 'https://shopee.com.my/api/v2/search_items/?by=relevancy&keyword=mouse&limit=50&newest=50&order=desc&page_type=search&version=2'  \n",
        "r = requests.get(url, headers = headers).json()\n",
        "\n",
        "for item in r['items']:\n",
        "    print(item['name'], ' ', item['price'])"
      ],
      "execution_count": 9,
      "outputs": [
        {
          "output_type": "stream",
          "text": [
            "Ready Stock Logitech M100r Wired Mouse M100r M-100r M 100r   5500000\n",
            "CLiPtec 1200dpi 2.4GHz Wireless Optical Mouse M853   1390000\n",
            "Ready Stock!!!UltraThin Wireless  Mouse 2.4G Optoelectronic Mouse Office Game Mouse   610000\n",
            "2.4G Mini Wireless Keyboard Touchpad For Android TV BOX PC   1890000\n",
            "Wireless Mouse 2.4Ghz Receiver Optical Adjustable Wireless Mice Rechargeable Mouse for PC Laptop   1411000\n",
            "FANTECH Rhasta G10 2400DPI LED Optical 6D USB Pro Gaming Wired Mouse Free MP25   1490000\n",
            "Logitech G103 Gaming Mouse. M100 M331 M330 M187 M185 B100 GAMING GAMER OPTICAL MOUSE   5888000\n",
            "[*Ready Stock] Cute Cartoon Round Mouse Pad for Study and Working | Hot-selling & Various Style Available   330000\n",
            "Ultra Thin USB Optical Wireless Mouse 2.4G Receiver Mouse Computer PC Laptop   553000\n",
            "DELL MS111 USB2.0 Optical Wired Mouse For Computer Laptop - Black OEM   720000\n",
            "KPOP BTS BT21 Wireless Silent Mouse TATA COOKY Cute Cartoon Laptop Office Mouse   1590000\n",
            "(1 Year Warranty) Wired USB Mouse competitive game notebook light USB Mice   999000\n",
            "Logitech M185/M186/M280 Wireless Mouse Laptop   1800000\n",
            "Logitech M330 Wireless Mouse Receiver Support With USB For Laptops   1458000\n",
            "Fantech Mouse Gaming X5s ZEUS Running RGB Macro FREE MOUSEPAD   3500000\n",
            "PROLiNK Wireless Optical Mouse with On/Off Switch Sirim & MCMC Approval (FREE AA Battery) PMW6001   2300000\n",
            "HP Wireless Mouse Computer Bluetooth Mouse Mute Mouse 1600DPI USB Receiver Mice   2790000\n",
            "ALX Rechargeable Wireless Mute Gaming Mouse 6 Button LED MZ-16   2421000\n",
            "Ultra Thin USB 2.4Ghz Wireless Mouse Optical Gaming Slim Receiver for PC Laptop   675000\n",
            "Delux M618X Adjustable Angle Wireless Wired Vertical Mouse Bluetooth Ergonomic Rechargeable Mice For Computer Laptop PC   13000000\n",
            "3200DPI LED Optical 6D USB Wired Gaming Mouse For PC   1130000\n",
            "FANTECH X9 WIRED MACRO RGB 4800DPI 7 BUTTONS GAMING MOUSE   3290000\n",
            "【 Cheap Shipping 】3200DPI 3 Buttons USB Wired Luminous Gamer Computer Gaming Mouse   680000\n",
            "Ergonomic Mouse High Precision Optical Vertical Mouse Adjustable DPI 800/1200/2000/3600 Wired Computer Mouse   2700000\n",
            "[ProfessionalGaming Mouse]Rechargeable Wireless Silent LED Backlit USB Optical Ergonomic   2099000\n",
            "Official Salpido M800 Usb Corded 3D Wired Optical Mouse Led Red   480000\n",
            "Logitech M331 Silent Plus Wireless Mouse   5800000\n",
            "Logitech M185 Wireless Mouse 1000DPI Office Computer USB Nano Receiver For Laptop Desktop PC Home&office Gaming Mice   1910000\n",
            "2.4GHz USB 2.0 Wireless Tablet Laptop Computer Gaming Mouse Optical Scroll Mice   701000\n",
            "PROLiNK Wireless Optical Mouse with On/Off Switch Sirim & MCMC Approval (FREE AA Battery) PMW6001   2300000\n",
            "2.4Ghz Mini Portable Wireless Optical Gaming Mouse   1450000\n",
            "HP M100 ENTRY LEVEL USB WIRED OPTICAL SENSOR GAMING MOUSE 4 BUTTONS & ADJUSTABLE 1000 - 1600DPI. CABLE : 1.5M & BLACK   1990000\n",
            "Apedra A7 USB Wired Gaming Mouse Professional 7 Button Macro Definition Optical Computer Mouse Cable Mice For Laptop PC   2700000\n",
            "Logitech B100 Optical USB Mouse   1497000\n",
            "Ultra-thin USB Optical Wireless Mouse FashionZone1.my   644000\n",
            "Redragon M710 Optical USB Wired Gaming Mouse Laser Programmable Mice Backlight Ergonomic For Laptop PC Computer Notebook   7900000\n",
            "Original Bluetooth Mouse Logitech Mouse Logitech M330 Silent Plus Wireless Mouse Gaming Mouse Mice Logitech   1399000\n",
            "HP X3000 WIRELESS MOUSE (100% ORIGINAL HP MALAYSIA) - M170 M171 M185 M187 M235 M238 M100 M100R B175   3999000\n",
            "Cliptec INNOVIF 1600dpi 2.4GHz RZS857 Wireless Mouse   1333000\n",
            "【Ready Stock】ASUS WIRELESS MOUSE 2.4 G   899000\n",
            "Alcatroz X-Craft Classic Gaming Mouse (2400 CPI) 4 Button Free Charging Cable   1590000\n",
            "SENSONIC MX350 Cordless Optical Wireless Mouse (m170, m331, m221, m330, m185 )   1139000\n",
            "Logitech M331 Silent Plus Wireless Mouse - Black 910-004914   6840000\n",
            "2.4Ghz Mini Portable Wireless Mouse USB Optical Game Gaming Mouse Mice For PC   1000000\n",
            "8.5 Inch Portable Digital LCD Writing Tablet Electronic Drawing Notepad   1279000\n",
            "XIAOMI Mi Portable Mouse Bluetooth 4.0 + 2.4GHz, Mi Wireless Mouse RF   3800000\n",
            "Wechip W1 2.4G Air Mouse Wireless Keyboard Remote Control   4180000\n",
            "DELL 2.4G WIRELESS OPTICAL MOUSE WIRELESS MOUSE OEM   1399000\n",
            "HP X500 Optical Wired USB Mouse Black 3 Buttons USB Mice   1400000\n",
            "Original Logitech M331 | M330 Silent Plus Wireless Mouse | M170 Wireless Mouse | B100   980000\n"
          ],
          "name": "stdout"
        }
      ]
    },
    {
      "cell_type": "code",
      "metadata": {
        "id": "SsO9CyNtN2X3",
        "colab_type": "code",
        "colab": {
          "base_uri": "https://localhost:8080/",
          "height": 527
        },
        "outputId": "38b05143-4cec-4642-e472-8394ca868b6e"
      },
      "source": [
        "import requests\n",
        "\n",
        "headers = {\n",
        "    'User-Agent': 'Mozilla/5',\n",
        "    'Referer': 'https://shopee.com.my/applewish.my'\n",
        "}\n",
        "\n",
        "url = 'https://shopee.com.my/api/v2/search_items/?by=pop&limit=30&match_id=62701278&newest=0&order=desc&page_type=shop&version=2'  \n",
        "r = requests.get(url, headers = headers).json()\n",
        "\n",
        "for item in r['items']:\n",
        "    print(item['name'], ' ', item['price'])"
      ],
      "execution_count": 10,
      "outputs": [
        {
          "output_type": "stream",
          "text": [
            "Rechargeable X7 Wireless Silent LED Backlit USB Optical Ergonomic Gaming Mouse   2100000\n",
            "Rechargeable X9 Wireless Silent LED Backlit USB Optical Ergonomic Gaming Mouse   2124000\n",
            "High Speed Micro USB 3.0 to USB 3.0 Cable External Hard Drive Disk HDD   456000\n",
            "2018 Fashion Portable MP3 MP4 Player LCD Screen FM Radio Video Games Movie   2505000\n",
            "Frame Case Cover Shell Screen Protector for Samsung Galaxy Watch Active 40mm   280000\n",
            "Universal Folio Leather Stand Cover Case For 10 10.1 Inch Android Tablet PC   1125000\n",
            "Fashion Sports Silicone Band Strap Bracelet + Tool For Garmin Vivosmart HR   675000\n",
            "Clothes Lint Fuzz Shaver Pill Fluff Remover Fabrics Sweaters Electric   1305000\n",
            "Crystal Transparent Case For Fuji Fujifilm Instax Mini 25 Polaroid Camera   702000\n",
            "USB3.0 1TB External Hard Drives Portable Desktop Mobile Hard Disk Case   2025000\n",
            "USB 3.0 To SATA 22 Pin 2.5 Inch Hard Disk Drive SSD Adapter Connector Cable Lead   1216000\n",
            "Magnetic USB Charger Recharger for Huawei Honor A2 Smart Watch Band Bracelet   750000\n",
            "Universal Folio Leather Stand Case For 10 10.1 Inch Android Tablet PC   1298000\n",
            "2.4G Wireless Vertical USB 6 Keys Mouse Ergonomic Design Optical 2400DPI Mice   1984000\n",
            "DIY 4*18650 Battery Power Bank Charger Box For iPhone Smartphone   497000\n",
            "Rechargeable X8 Wireless Silent LED Backlit Optical Ergonomic Gaming Mouse   2278000\n",
            "TYPE C Rechargeable Wireless LED Optical Ergonomic 2.4G USB Gaming Mouse Mice   3726000\n",
            "Smart Watch Leather +Silicone Wrist Band Strap For Huawei Watch GT / Active 46mm   2048000\n",
            "Universal Folio Leather Stand Cover Case For 10 10.1 Inch Android Tablet PC   1125000\n",
            "6FT 1.8 M Displayport DP Male To DVI-D Male Cable Adapter Core Cable Newest   1043000\n",
            "Universal Silicone Cover Case For 10 10.1 Inch Android Tablet PC   966000\n",
            "USB IDE Laptop Notebook CD DVD RW Burner ROM Drive External Case Enclosure   1463000\n",
            "4800mAh Battery Pack + USB Charger Black Cable For Xbox 360 Wireless Controller   810000\n",
            "DC102 LCD Display Thermometer Humidity Temperature Hygrometer Meter Clock   1392000\n",
            "Silicone Replacement Watch Band Wrist Strap For Huawei Honor 4 Running   686000\n",
            "Professional Colorful Backlight 4000DPI Optical Wired Gaming Mouse Mice   1033000\n",
            "Luxury PU+Leather Case Kickstand Cover Skin For Microsoft Surface Go 10in 2018   2302000\n",
            "Home Button Sticker Button Fingerprint Indentification Touch ID for iPhone   232000\n",
            "Silicone Replacement Watch Band Wrist Strap For Samsung Galaxy Watch Active R500   972000\n",
            "For Amazon Kindle Fire HD 8 2018 8th Gen Kids Safe EVA Rubber Handle Stand Case   2484000\n"
          ],
          "name": "stdout"
        }
      ]
    },
    {
      "cell_type": "code",
      "metadata": {
        "id": "9II6vLZbeqgr",
        "colab_type": "code",
        "colab": {
          "base_uri": "https://localhost:8080/",
          "height": 34
        },
        "outputId": "ee5f2988-1bee-4c0f-a44e-91ce1453c431"
      },
      "source": [
        "len(item['name'])"
      ],
      "execution_count": 14,
      "outputs": [
        {
          "output_type": "execute_result",
          "data": {
            "text/plain": [
              "79"
            ]
          },
          "metadata": {
            "tags": []
          },
          "execution_count": 14
        }
      ]
    },
    {
      "cell_type": "code",
      "metadata": {
        "id": "Gpu0kO4lev7j",
        "colab_type": "code",
        "colab": {
          "base_uri": "https://localhost:8080/",
          "height": 527
        },
        "outputId": "48671657-dffa-481b-c384-043dac55fb5b"
      },
      "source": [
        "import requests\n",
        "\n",
        "headers = {\n",
        "    'User-Agent': 'Mozilla/5',\n",
        "    'Referer': 'https://shopee.com.my/applewish.my'\n",
        "}\n",
        "\n",
        "url = 'https://shopee.com.my/api/v2/search_items/?by=pop&limit=30&match_id=62701278&newest=30&order=desc&page_type=shop&version=2'  \n",
        "r = requests.get(url, headers = headers).json()\n",
        "\n",
        "for item in r['items']:\n",
        "    print(item['name'], ' ', item['price'])"
      ],
      "execution_count": 15,
      "outputs": [
        {
          "output_type": "stream",
          "text": [
            "Protective Shell Skin Silicone Case Cover For Amazon Kindle Fire HD 8 2016/2017   1267000\n",
            "Cordless Wireless 2.4GHz Optical Mouse Mice for Laptop PC Computer +USB Receiver   850000\n",
            "4 Pin Molex to 6 Pin PCI-Express PCIE Video Card Power Converter Adapter Cable   100000\n",
            "Memory Foam Armrest Cushion Pads Elbow Arm Rest Cover Chair Armrest Pads   1309000\n",
            "9H 2.5D Clear Screen Protector Covers for Microsoft Surface Go 10 inch   1475000\n",
            "Foldable Cat Ear LED Music Lights Headphone Earphone headset for Laptop MP3   3160000\n",
            "Ultra Clear Screen Protector Cover Film For MacBook Air Retina 13 inch   355000\n",
            "10 Pairs Medium Size Clear Silicone Replacement Ear Buds Tips For Sony Phillips   98000\n",
            "Wireless Bluetooth Charger FM Transmitter Modulator Car Kit MP3 Music Player G7   1817000\n",
            "Universal Folio Leather Stand Cover Case For 10/10.1 Inch Android Tablet PC   1263000\n",
            "2.5 SATA TO USB3.1 Type C HDD Hard Disk Drive External HDD Enclosure Case Tool 6   2240000\n",
            "Universal 2.5D 9H Tempered Glass Film Screen Protector For 10 10.1Inch Tablet PC   1539000\n",
            "20 PC Cable Winder Earphone Cable Organizer Wire Storage Silicon Charger CL   550000\n",
            "Sports Silicone Strap Band + 5 PCS Watch Film For Huawei Honor 4 Smart Watch   2343000\n",
            "Milanese Magnetic Loop Wrist Strap Metal Wristband For Xiaomi Mi Band 4 Watch   2240000\n",
            "ZELOTES T-60 7200DPI Professional USB Wired Optical 7 Buttons Gaming Mouse   1975000\n",
            "Mini Zipper Earphone Headphone SD Card Storage Bag Box Carrying Pouch   340000\n",
            "TPU Frame Cover Case Shell Screen Protector for Samsung Galaxy Watch Active 40mm   567000\n",
            "Replacement Fast Charging Power Source Charger Dock For Garmin forerunner 945   833000\n",
            "Bluetooth FM Transmitter FM MP3 Players Modulator Handsfree Dual USB Charger A27   1239000\n",
            "Wireless Fast Charging Power Source Charger For Samsung Galaxy Watch Active   2211000\n",
            "1M  2.4A 3in1 USB-C Type C/iOS/ Micro USB Android Round Magnetic Charger   1536000\n",
            "USB Charging Data Cradle Dock Cable Portable Charger For Fossil 4 Smart Watch   3105000\n",
            "Sports Soft Silicone Replacement Watch Band Strap for Fitbit Inspire/Inspire HR   480000\n",
            "5PCS Explosion-proof Clear Pet Screen Protection Film For Samsung Galaxy Fit-e   735000\n",
            "Type-C USB-C OTG Cable USB3.1 Male To USB2.0 Type-A Female Adapter Connector   354000\n",
            "For iPad 6th Generation 2018 9.7 Slim Magnetic Leather Cover For Apple   1944000\n",
            "Sports Soft Silicone Point Wristband Wrist Strap For XIAOMI AMAZFIT cor 2 Watch   1298000\n",
            "Socket Adapter Splitter 3 USB Port Charger DC 12V 24V Car Cigarette Lighter   918000\n",
            "4 Way USB Car Cigarette Lighter Socket Splitter 12V/24V Charger Adapter   1106000\n"
          ],
          "name": "stdout"
        }
      ]
    },
    {
      "cell_type": "code",
      "metadata": {
        "id": "9ZIEPU1ufuUt",
        "colab_type": "code",
        "colab": {}
      },
      "source": [
        ""
      ],
      "execution_count": 0,
      "outputs": []
    },
    {
      "cell_type": "markdown",
      "metadata": {
        "id": "iUv3akkrf8SY",
        "colab_type": "text"
      },
      "source": [
        "Picture code + cf.shopee.com.my\n",
        "8ab40b4bad1f7af306a25dbac7395d40 <p>\n",
        "https://cf.shopee.com.my/file/8ab40b4bad1f7af306a25dbac7395d40\n",
        "\n",
        "example shopee seller id page 1 and page 2 different at newest=0/30 <p>\n",
        "https://shopee.com.my/api/v2/search_items/?by=pop&limit=30&match_id=62701278&newest=0&order=desc&page_type=shop&version=2 <p>\n",
        "https://shopee.com.my/api/v2/search_items/?by=pop&limit=30&match_id=62701278&newest=30&order=desc&page_type=shop&version=2 <p>\n",
        "https://shopee.com.my/Rechargeable-X7-Wireless-Silent-LED-Backlit-USB-Optical-Ergonomic-Gaming-Mouse-i.62701278.1044444330 <p>\n",
        "name + shop id + item id"
      ]
    },
    {
      "cell_type": "code",
      "metadata": {
        "id": "rGri3ZQSgMI4",
        "colab_type": "code",
        "colab": {}
      },
      "source": [
        ""
      ],
      "execution_count": 0,
      "outputs": []
    }
  ]
}